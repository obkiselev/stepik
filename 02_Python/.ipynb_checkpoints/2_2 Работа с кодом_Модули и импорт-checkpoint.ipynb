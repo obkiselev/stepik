{
 "cells": [
  {
   "cell_type": "markdown",
   "metadata": {},
   "source": [
    "# 2.2 Работа с кодом: модули и импорт"
   ]
  },
  {
   "cell_type": "markdown",
   "metadata": {},
   "source": [
    "## Шаг 5"
   ]
  },
  {
   "cell_type": "markdown",
   "metadata": {},
   "source": [
    "В первой строке дано три числа, соответствующие некоторой дате date -- год, месяц и день.\n",
    "Во второй строке дано одно число days -- число дней.\n",
    "\n",
    "Вычислите и выведите год, месяц и день даты, которая наступит, когда с момента исходной даты date пройдет число дней, равное days.\n",
    "\n",
    "Примечание:\n",
    "Для решения этой задачи используйте стандартный модуль datetime.\n",
    "Вам будут полезны класс datetime.date для хранения даты и класс datetime.timedelta﻿ для прибавления дней к дате.\n",
    "\n",
    "#### Sample Input 1:\n",
    "2016 4 20\n",
    "14\n",
    "Sample Output 1:\n",
    "2016 5 4\n",
    "\n",
    "#### Sample Input 2:\n",
    "2016 2 20\n",
    "9\n",
    "Sample Output 2:\n",
    "2016 2 29\n",
    "\n",
    "#### Sample Input 3:\n",
    "2015 12 31\n",
    "1\n",
    "Sample Output 3:\n",
    "2016 1 1"
   ]
  },
  {
   "cell_type": "code",
   "execution_count": 1,
   "metadata": {},
   "outputs": [
    {
     "name": "stdout",
     "output_type": "stream",
     "text": [
      "2019 04 23\n",
      "15\n",
      "2019 5 8\n"
     ]
    }
   ],
   "source": [
    "import datetime as dt\n",
    "\n",
    "year,month,day = input().split()\n",
    "year = int(year)\n",
    "month = int(month)\n",
    "day = int(day)\n",
    "days = int(input())\n",
    "\n",
    "d = dt.date(year,month,day) + dt.timedelta(days=days)\n",
    "print(d.year,d.month,d.day)"
   ]
  },
  {
   "cell_type": "markdown",
   "metadata": {},
   "source": [
    "## Шаг 9"
   ]
  },
  {
   "cell_type": "markdown",
   "metadata": {},
   "source": [
    "Алиса владеет интересной информацией, которую хочет заполучить Боб.\n",
    "Алиса умна, поэтому она хранит свою информацию в зашифрованном файле.\n",
    "У Алисы плохая память, поэтому она хранит все свои пароли в открытом виде в текстовом файле.\n",
    "\n",
    "Бобу удалось завладеть зашифрованным файлом с интересной информацией и файлом с паролями, но он не смог понять какой из паролей ему нужен. Помогите ему решить эту проблему.\n",
    "\n",
    "Алиса зашифровала свою информацию с помощью библиотеки simple-crypt.\n",
    "Она представила информацию в виде строки, и затем записала в бинарный файл результат работы метода simplecrypt.encrypt.\n",
    "\n",
    "Вам необходимо установить библиотеку simple-crypt, и с помощью метода simplecrypt.decrypt узнать, какой из паролей служит ключом для расшифровки файла с интересной информацией.\n",
    "\n",
    "Ответом для данной задачи служит расшифрованная интересная информация Алисы.\n",
    "\n",
    "Файл с информацией \n",
    "Файл с паролями \n",
    "\n",
    "Примечание:\n",
    "Для того, чтобы считать все данные из бинарного файла, можно использовать, например, следующий код:\n",
    "\n",
    "with open(\"encrypted.bin\", \"rb\") as inp:\n",
    "    encrypted = inp.read()\n",
    "\n",
    "Примечание:\n",
    "﻿Работа с файлами рассмотрена в следующем уроке, поэтому вы можете вернуться к этой задаче после просмотра следующего урока."
   ]
  },
  {
   "cell_type": "code",
   "execution_count": 21,
   "metadata": {},
   "outputs": [],
   "source": [
    "import simplecrypt as sc"
   ]
  },
  {
   "cell_type": "code",
   "execution_count": 30,
   "metadata": {},
   "outputs": [
    {
     "name": "stdout",
     "output_type": "stream",
     "text": [
      "ciphertext = b'sc\\x00\\x02\\x96\\x93^\\xd7&1\\x9f\\xd0\\x14\\x02\\x14\\xd1\\x92`\\xeb\\x1b\\xdbulr\\x0e\\xeb\\x0f\\xf0D\\xcf\\x87\\xf5\\xd5\\xf2oKA\\x89b/\\xaa\\xa6y;\\x8b)\\x89\\xbdl\\x0f\\x96\\x144\\x8e\\xe2P\\xa8\\xcf\\xc7T\\xf6>.`m\\xfbC/\\xc1V\\xd2>\\xd0\\xaf\\xbb0%V\\x14\\xac\\xf7\\n\\xcd'\n",
      "password = [9XB8nsIqRfYeswC]\n",
      "password [9XB8nsIqRfYeswC] is wrang\n",
      "password = [4sEhUGLEZti9BiN]\n",
      "password [4sEhUGLEZti9BiN] is wrang\n",
      "password = [bDjmT0NcIW8nzhb]\n",
      "password [bDjmT0NcIW8nzhb] is wrang\n",
      "password = [ZN6QQoMOO1ZQLUY]\n",
      "password [ZN6QQoMOO1ZQLUY] is wrang\n",
      "password = [RVrF2qdMpoq6Lib]\n",
      "b'Alice loves Bob'\n",
      "password = [tnnX7HH3vJ9Hiji]\n",
      "password [tnnX7HH3vJ9Hiji] is wrang\n",
      "password = [C24TJYYkqekv40l]\n",
      "password [C24TJYYkqekv40l] is wrang\n",
      "password = [B2ropluPaMAitzE]\n",
      "password [B2ropluPaMAitzE] is wrang\n",
      "password = [DRezNUVnr2zC0CP]\n",
      "password [DRezNUVnr2zC0CP] is wrang\n",
      "password = [XCNmpTvvZb1n3mX]\n",
      "password [XCNmpTvvZb1n3mX] is wrang\n"
     ]
    }
   ],
   "source": [
    "with open(\"data/encrypted.bin\", \"rb\") as inp:\n",
    "    ciphertext = inp.read()\n",
    "    print('ciphertext =',ciphertext)\n",
    "\n",
    "with open('data/passwords.txt', 'r', encoding='utf-8') as inf:\n",
    "    for psw in inf:\n",
    "        try:\n",
    "            psw = psw.strip('\\n')\n",
    "            print('password = ['+psw+']')\n",
    "            plaintext = sc.decrypt(psw, ciphertext)\n",
    "            print(plaintext)\n",
    "        except:# DecryptionException:\n",
    "            print('password ['+psw+'] is wrang')\n"
   ]
  },
  {
   "cell_type": "code",
   "execution_count": 16,
   "metadata": {},
   "outputs": [
    {
     "name": "stdout",
     "output_type": "stream",
     "text": [
      "ciphertext = b'sc\\x00\\x02k\\x8d\\x04\\xc9\\xd1\\x8c\\x9f\\xa9\\xee\\xd5N\\x1a\\x87\\xd4\\xb79$\\xb3\\x95\\xd7\"\\x8fu\\xa9\\xa7\\xe27\\xd9\\xa5\\xafsG}\\xf8\\x93\\xd2\\xc48N\\x1d\\xd4>{\\x16\\x03v\\xba\\xeaaf\\xe6\\xef\\xb7\\xe0T>@_d\\xb6O\\x8f\\x1fO\\x08\\x11GZ\\x11\\xee\\xb5\\xe1\\x1a'\n",
      "plaintext = b'plaintext'\n"
     ]
    }
   ],
   "source": [
    "ciphertext = encrypt('password', 'plaintext')\n",
    "print('ciphertext =', ciphertext)"
   ]
  },
  {
   "cell_type": "code",
   "execution_count": null,
   "metadata": {},
   "outputs": [],
   "source": [
    "plaintext = decrypt('password', ciphertext)\n",
    "print('plaintext =', plaintext)"
   ]
  },
  {
   "cell_type": "code",
   "execution_count": null,
   "metadata": {},
   "outputs": [],
   "source": []
  }
 ],
 "metadata": {
  "kernelspec": {
   "display_name": "Python 3",
   "language": "python",
   "name": "python3"
  },
  "language_info": {
   "codemirror_mode": {
    "name": "ipython",
    "version": 3
   },
   "file_extension": ".py",
   "mimetype": "text/x-python",
   "name": "python",
   "nbconvert_exporter": "python",
   "pygments_lexer": "ipython3",
   "version": "3.7.4"
  }
 },
 "nbformat": 4,
 "nbformat_minor": 2
}
