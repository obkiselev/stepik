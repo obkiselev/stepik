{
 "cells": [
  {
   "cell_type": "code",
   "execution_count": null,
   "metadata": {
    "scrolled": false
   },
   "outputs": [],
   "source": [
    "#Какие числа будут выведены на экран в результате выполнения данного кода?\n",
    "x, y = 1, 2\n",
    "\n",
    "def foo():\n",
    "    global y\n",
    "    if y == 2:\n",
    "        x = 2\n",
    "        y = 1\n",
    "\n",
    "foo()\n",
    "print(x)\n",
    "if y == 1:\n",
    "    x = 3\n",
    "print(x)"
   ]
  },
  {
   "cell_type": "code",
   "execution_count": 4,
   "metadata": {},
   "outputs": [
    {
     "name": "stdout",
     "output_type": "stream",
     "text": [
      "4\n",
      "add global a\n",
      "{'None#global': ['a']}\n",
      "create foo global\n",
      "{'None#global': ['a'], 'global#foo': []}\n",
      "add foo b\n",
      "{'None#global': ['a'], 'global#foo': ['b']}\n",
      "get foo a\n",
      "GetNS. in_vars: foo a\n",
      "GetNS. global foo {'None#global': ['a'], 'global#foo': ['b']}\n",
      "GetNS. in_vars: global a\n",
      "GetNS. None global {'None#global': ['a'], 'global#foo': ['b']}\n",
      "None\n"
     ]
    }
   ],
   "source": [
    "'''Реализуйте программу, которая будет эмулировать работу с \n",
    "пространствами имен. Необходимо реализовать поддержку создания \n",
    "пространств имен и добавление в них переменных'''\n",
    "n = int(input())\n",
    "d = {'None#global': []}\n",
    "\n",
    "def GetKey(p_ns):\n",
    "    for key in d.keys():\n",
    "        nsPr, nsCh = key.split('#')\n",
    "        #print(' nss:',nsPr,nsCh)\n",
    "        if nsCh == p_ns:\n",
    "            return key\n",
    "\n",
    "def GetNS(p_ns, p_arg):\n",
    "    print('GetNS. in_vars:', p_ns, p_arg)\n",
    "    for key in d.keys():\n",
    "        nsPr, nsCh = key.split('#')\n",
    "        if nsCh == p_ns:\n",
    "            print('GetNS.', nsPr, nsCh, d[key])\n",
    "            if p_arg in d[key]:\n",
    "                return nsCh\n",
    "            else:\n",
    "                GetNS(nsPr, p_arg)\n",
    "\n",
    "for i in range(n):\n",
    "    cmd, ns, arg = input().split()\n",
    "    if cmd == 'create':\n",
    "        key = arg + '#' + ns\n",
    "        val = []\n",
    "    elif cmd == 'add':\n",
    "        key = GetKey(ns)\n",
    "        val = arg\n",
    "        \n",
    "    if cmd != 'get':\n",
    "        if key in d.keys():\n",
    "            d[key] += [val]\n",
    "        else:\n",
    "            d[key] = val\n",
    "        print(d)\n",
    "    else:\n",
    "        print(GetNS(ns, arg))\n",
    "            "
   ]
  },
  {
   "cell_type": "markdown",
   "metadata": {},
   "source": []
  },
  {
   "cell_type": "code",
   "execution_count": 6,
   "metadata": {},
   "outputs": [
    {
     "name": "stdout",
     "output_type": "stream",
     "text": [
      "['a']\n"
     ]
    }
   ],
   "source": [
    "d = {'None#global': ['a']}\n",
    "for key in d.keys():\n",
    "    if 'a' in d[key]:\n",
    "        print(d[key])"
   ]
  },
  {
   "cell_type": "code",
   "execution_count": null,
   "metadata": {},
   "outputs": [],
   "source": []
  }
 ],
 "metadata": {
  "kernelspec": {
   "display_name": "Python 3",
   "language": "python",
   "name": "python3"
  },
  "language_info": {
   "codemirror_mode": {
    "name": "ipython",
    "version": 3
   },
   "file_extension": ".py",
   "mimetype": "text/x-python",
   "name": "python",
   "nbconvert_exporter": "python",
   "pygments_lexer": "ipython3",
   "version": "3.7.4"
  }
 },
 "nbformat": 4,
 "nbformat_minor": 2
}
