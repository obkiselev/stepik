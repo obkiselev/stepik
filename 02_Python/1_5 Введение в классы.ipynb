{
 "cells": [
  {
   "cell_type": "code",
   "execution_count": 16,
   "metadata": {},
   "outputs": [],
   "source": [
    "#Реализуйте класс MoneyBox, для работы с виртуальной копилкой\n",
    "class MoneyBox:\n",
    "    def __init__(self, capacity): # конструктор с аргументом – вместимость копилки\n",
    "        self.count = 0\n",
    "        self.capacity = capacity\n",
    "\n",
    "    def can_add(self, v): # True, если можно добавить v монет, False иначе\n",
    "        if self.count + v <= self.capacity:\n",
    "            return True\n",
    "        else:\n",
    "            return False\n",
    "\n",
    "    def add(self, v): # положить v монет в копилку\n",
    "        if self.can_add(v):\n",
    "            self.count += v\n"
   ]
  },
  {
   "cell_type": "code",
   "execution_count": 20,
   "metadata": {},
   "outputs": [
    {
     "name": "stdout",
     "output_type": "stream",
     "text": [
      "0\n"
     ]
    }
   ],
   "source": [
    "m = MoneyBox(4)\n",
    "m.add(5)\n",
    "print(m.count)"
   ]
  },
  {
   "cell_type": "code",
   "execution_count": 43,
   "metadata": {},
   "outputs": [],
   "source": [
    "'''Реализуйте класс Buffer, который будет накапливать в себе \n",
    "элементы последовательности и выводить сумму пятерок \n",
    "последовательных элементов по мере их накопления'''\n",
    "class Buffer:\n",
    "    def __init__(self): # конструктор без аргументов\n",
    "        self.s = 0\n",
    "        self.lst = []\n",
    "        \n",
    "    def add(self, *a): # добавить следующую часть последовательности\n",
    "        for val in a:\n",
    "            self.lst.append(val)\n",
    "        while len(self.lst) >= 5:\n",
    "            self.s = 0\n",
    "            for val in self.lst[0:5]:\n",
    "                self.s += val\n",
    "                self.lst.remove(val)\n",
    "            print(self.s)\n",
    "        \n",
    "    def get_current_part(self): # вернуть сохраненные в текущий момент элементы последовательности в порядке, в котором они были добавлены\n",
    "        return self.lst\n",
    "        "
   ]
  },
  {
   "cell_type": "code",
   "execution_count": 44,
   "metadata": {},
   "outputs": [
    {
     "name": "stdout",
     "output_type": "stream",
     "text": [
      "15\n",
      "40\n",
      "5\n",
      "5\n"
     ]
    },
    {
     "data": {
      "text/plain": [
       "[1]"
      ]
     },
     "execution_count": 44,
     "metadata": {},
     "output_type": "execute_result"
    }
   ],
   "source": [
    "buf = Buffer()\n",
    "buf.add(1, 2, 3)\n",
    "buf.get_current_part() # вернуть [1, 2, 3]\n",
    "buf.add(4, 5, 6) # print(15) – вывод суммы первой пятерки элементов\n",
    "buf.get_current_part() # вернуть [6]\n",
    "buf.add(7, 8, 9, 10) # print(40) – вывод суммы второй пятерки элементов\n",
    "buf.get_current_part() # вернуть []\n",
    "buf.add(1, 1, 1, 1, 1, 1, 1, 1, 1, 1, 1) # print(5), print(5) – вывод сумм третьей и четвертой пятерки\n",
    "buf.get_current_part() # вернуть [1]\n"
   ]
  },
  {
   "cell_type": "code",
   "execution_count": 63,
   "metadata": {},
   "outputs": [
    {
     "name": "stdout",
     "output_type": "stream",
     "text": [
      "A: val = 1\n",
      "bar: val = 2\n",
      "foo: val = 3\n",
      "2\n",
      "3\n",
      "3\n"
     ]
    }
   ],
   "source": [
    "# Какие числа будут выведены в результате выполнения данного кода?\n",
    "\n",
    "class A:\n",
    "    val = 1\n",
    "    print('A: val =',val)\n",
    "\n",
    "    def foo(self):\n",
    "        A.val += 2\n",
    "        print('foo: val =',A.val)\n",
    "\n",
    "    def bar(self):\n",
    "        self.val += 1\n",
    "        print('bar: val =',self.val)\n",
    "\n",
    "\n",
    "a = A()\n",
    "#print(a.val)\n",
    "b = A()\n",
    "#print(b.val)\n",
    "\n",
    "a.bar()\n",
    "#print(a.val)\n",
    "a.foo()\n",
    "\n",
    "c = A()\n",
    "\n",
    "print(a.val)\n",
    "\n",
    "#c.foo()\n",
    "print(b.val)\n",
    "print(c.val)"
   ]
  },
  {
   "cell_type": "code",
   "execution_count": null,
   "metadata": {},
   "outputs": [],
   "source": []
  }
 ],
 "metadata": {
  "kernelspec": {
   "display_name": "Python 3",
   "language": "python",
   "name": "python3"
  },
  "language_info": {
   "codemirror_mode": {
    "name": "ipython",
    "version": 3
   },
   "file_extension": ".py",
   "mimetype": "text/x-python",
   "name": "python",
   "nbconvert_exporter": "python",
   "pygments_lexer": "ipython3",
   "version": "3.7.4"
  }
 },
 "nbformat": 4,
 "nbformat_minor": 2
}
