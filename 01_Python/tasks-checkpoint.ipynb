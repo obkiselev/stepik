{
 "cells": [
  {
   "cell_type": "code",
   "execution_count": 1,
   "metadata": {},
   "outputs": [
    {
     "data": {
      "text/plain": [
       "7"
      ]
     },
     "execution_count": 1,
     "metadata": {},
     "output_type": "execute_result"
    }
   ],
   "source": [
    "4+3\n"
   ]
  },
  {
   "cell_type": "code",
   "execution_count": 4,
   "metadata": {},
   "outputs": [
    {
     "data": {
      "text/plain": [
       "12345554321"
      ]
     },
     "execution_count": 4,
     "metadata": {},
     "output_type": "execute_result"
    }
   ],
   "source": [
    "11111*1111111"
   ]
  },
  {
   "cell_type": "code",
   "execution_count": 5,
   "metadata": {},
   "outputs": [
    {
     "ename": "ZeroDivisionError",
     "evalue": "division by zero",
     "output_type": "error",
     "traceback": [
      "\u001b[1;31m---------------------------------------------------------------------------\u001b[0m",
      "\u001b[1;31mZeroDivisionError\u001b[0m                         Traceback (most recent call last)",
      "\u001b[1;32m<ipython-input-5-f796ee6ce2a8>\u001b[0m in \u001b[0;36m<module>\u001b[1;34m\u001b[0m\n\u001b[1;32m----> 1\u001b[1;33m \u001b[1;36m42\u001b[0m \u001b[1;33m/\u001b[0m \u001b[1;33m(\u001b[0m\u001b[1;36m4\u001b[0m\u001b[1;33m+\u001b[0m\u001b[1;36m2\u001b[0m\u001b[1;33m*\u001b[0m\u001b[1;33m(\u001b[0m\u001b[1;33m-\u001b[0m\u001b[1;36m2\u001b[0m\u001b[1;33m)\u001b[0m\u001b[1;33m)\u001b[0m\u001b[1;33m\u001b[0m\u001b[1;33m\u001b[0m\u001b[0m\n\u001b[0m",
      "\u001b[1;31mZeroDivisionError\u001b[0m: division by zero"
     ]
    }
   ],
   "source": [
    "42 / (4+2*(-2))"
   ]
  },
  {
   "cell_type": "code",
   "execution_count": 6,
   "metadata": {},
   "outputs": [
    {
     "data": {
      "text/plain": [
       "18064773765607550801425251468864907833685590016"
      ]
     },
     "execution_count": 6,
     "metadata": {},
     "output_type": "execute_result"
    }
   ],
   "source": [
    "2014**14"
   ]
  },
  {
   "cell_type": "code",
   "execution_count": 7,
   "metadata": {},
   "outputs": [
    {
     "data": {
      "text/plain": [
       "1234.5"
      ]
     },
     "execution_count": 7,
     "metadata": {},
     "output_type": "execute_result"
    }
   ],
   "source": [
    "1.2345e3\n"
   ]
  },
  {
   "cell_type": "code",
   "execution_count": 8,
   "metadata": {},
   "outputs": [
    {
     "data": {
      "text/plain": [
       "0.0012345"
      ]
     },
     "execution_count": 8,
     "metadata": {},
     "output_type": "execute_result"
    }
   ],
   "source": [
    "1.2345e-3"
   ]
  },
  {
   "cell_type": "code",
   "execution_count": 9,
   "metadata": {},
   "outputs": [
    {
     "data": {
      "text/plain": [
       "1.806477376560755e+46"
      ]
     },
     "execution_count": 9,
     "metadata": {},
     "output_type": "execute_result"
    }
   ],
   "source": [
    "2014.0**14"
   ]
  },
  {
   "cell_type": "code",
   "execution_count": 10,
   "metadata": {},
   "outputs": [
    {
     "data": {
      "text/plain": [
       "2.3333333333333335"
      ]
     },
     "execution_count": 10,
     "metadata": {},
     "output_type": "execute_result"
    }
   ],
   "source": [
    "7/3 "
   ]
  },
  {
   "cell_type": "code",
   "execution_count": 11,
   "metadata": {},
   "outputs": [
    {
     "data": {
      "text/plain": [
       "2"
      ]
     },
     "execution_count": 11,
     "metadata": {},
     "output_type": "execute_result"
    }
   ],
   "source": [
    "7//3"
   ]
  },
  {
   "cell_type": "code",
   "execution_count": 12,
   "metadata": {},
   "outputs": [
    {
     "data": {
      "text/plain": [
       "2"
      ]
     },
     "execution_count": 12,
     "metadata": {},
     "output_type": "execute_result"
    }
   ],
   "source": [
    "int(2.99)"
   ]
  },
  {
   "cell_type": "code",
   "execution_count": 13,
   "metadata": {},
   "outputs": [
    {
     "data": {
      "text/plain": [
       "-1"
      ]
     },
     "execution_count": 13,
     "metadata": {},
     "output_type": "execute_result"
    }
   ],
   "source": [
    "int(-1.6)"
   ]
  },
  {
   "cell_type": "code",
   "execution_count": 14,
   "metadata": {},
   "outputs": [
    {
     "data": {
      "text/plain": [
       "89"
      ]
     },
     "execution_count": 14,
     "metadata": {},
     "output_type": "execute_result"
    }
   ],
   "source": [
    "9**19 - int(float(9**19))"
   ]
  },
  {
   "cell_type": "code",
   "execution_count": 15,
   "metadata": {},
   "outputs": [
    {
     "name": "stdout",
     "output_type": "stream",
     "text": [
      "In:3\n"
     ]
    },
    {
     "data": {
      "text/plain": [
       "'3'"
      ]
     },
     "execution_count": 15,
     "metadata": {},
     "output_type": "execute_result"
    }
   ],
   "source": [
    "input('In:')"
   ]
  },
  {
   "cell_type": "code",
   "execution_count": 16,
   "metadata": {},
   "outputs": [],
   "source": [
    "a=3\n"
   ]
  },
  {
   "cell_type": "code",
   "execution_count": 17,
   "metadata": {},
   "outputs": [
    {
     "data": {
      "text/plain": [
       "3"
      ]
     },
     "execution_count": 17,
     "metadata": {},
     "output_type": "execute_result"
    }
   ],
   "source": [
    "a"
   ]
  },
  {
   "cell_type": "code",
   "execution_count": 18,
   "metadata": {},
   "outputs": [],
   "source": [
    "a+=4"
   ]
  },
  {
   "cell_type": "code",
   "execution_count": 19,
   "metadata": {},
   "outputs": [
    {
     "data": {
      "text/plain": [
       "7"
      ]
     },
     "execution_count": 19,
     "metadata": {},
     "output_type": "execute_result"
    }
   ],
   "source": [
    "a"
   ]
  },
  {
   "cell_type": "code",
   "execution_count": 20,
   "metadata": {},
   "outputs": [
    {
     "name": "stdout",
     "output_type": "stream",
     "text": [
      "7\n",
      "30\n",
      "450\n"
     ]
    }
   ],
   "source": [
    "X = int(input())\n",
    "Y = int(input())\n",
    "print(X*60 + Y)"
   ]
  },
  {
   "cell_type": "code",
   "execution_count": 22,
   "metadata": {},
   "outputs": [
    {
     "name": "stdout",
     "output_type": "stream",
     "text": [
      "512\n",
      "8\n",
      "32\n"
     ]
    }
   ],
   "source": [
    "X = int(input())\n",
    "print(X // 60)\n",
    "print(X % 60)"
   ]
  },
  {
   "cell_type": "code",
   "execution_count": 29,
   "metadata": {},
   "outputs": [
    {
     "name": "stdout",
     "output_type": "stream",
     "text": [
      "480\n",
      "1\n",
      "2\n",
      "9\n",
      "2\n"
     ]
    }
   ],
   "source": [
    "#Катя узнала, что ей для сна надо X минут\n",
    "X = int(input())\n",
    "H = int(input())\n",
    "M = int(input())\n",
    "print((H * 60 + M + X) // 60)\n",
    "print((M + X) % 60)"
   ]
  },
  {
   "cell_type": "code",
   "execution_count": 31,
   "metadata": {},
   "outputs": [
    {
     "data": {
      "text/plain": [
       "True"
      ]
     },
     "execution_count": 31,
     "metadata": {},
     "output_type": "execute_result"
    }
   ],
   "source": [
    "x = 5\n",
    "y = 10\n",
    "y > x * x or y >= 2 * x and x < y\n"
   ]
  },
  {
   "cell_type": "code",
   "execution_count": 32,
   "metadata": {},
   "outputs": [
    {
     "data": {
      "text/plain": [
       "False"
      ]
     },
     "execution_count": 32,
     "metadata": {},
     "output_type": "execute_result"
    }
   ],
   "source": [
    "a = True\n",
    "b = False\n",
    "((a and b) or ((not a) and (not b)))"
   ]
  },
  {
   "cell_type": "code",
   "execution_count": 35,
   "metadata": {},
   "outputs": [
    {
     "name": "stdout",
     "output_type": "stream",
     "text": [
      "7\n",
      "9\n",
      "2\n",
      "Недосып\n"
     ]
    }
   ],
   "source": [
    "#Из передачи “Здоровье” Аня узнала, что рекомендуется спать хотя бы A часов в сутки, но пересыпать тоже вредно и не стоит спать более B часов\n",
    "A = int(input())\n",
    "B = int(input())\n",
    "H = int(input())\n",
    "if H < A:\n",
    "    print('Недосып')\n",
    "elif H > B:\n",
    "    print('Пересып')\n",
    "else:\n",
    "    print('Это нормально')"
   ]
  },
  {
   "cell_type": "code",
   "execution_count": 41,
   "metadata": {},
   "outputs": [
    {
     "name": "stdout",
     "output_type": "stream",
     "text": [
      "2020\n",
      "Високосный\n"
     ]
    }
   ],
   "source": [
    "#ребуется определить, является ли данный год високосным.\n",
    "Y = int(input())\n",
    "if (Y % 4 == 0 and Y % 100 != 0) or Y % 400 == 0:\n",
    "    print('Високосный')\n",
    "else:\n",
    "    print('Обычный')"
   ]
  },
  {
   "cell_type": "code",
   "execution_count": 42,
   "metadata": {},
   "outputs": [
    {
     "name": "stdout",
     "output_type": "stream",
     "text": [
      "3\n",
      "4\n",
      "5\n",
      "6.0\n"
     ]
    }
   ],
   "source": [
    "#формула Герона\n",
    "A = int(input())\n",
    "B = int(input())\n",
    "C = int(input())\n",
    "P = (A + B + C) / 2\n",
    "S = (P * (P - A) * (P - B) * (P - C)) ** 0.5\n",
    "print(S)\n"
   ]
  },
  {
   "cell_type": "code",
   "execution_count": 44,
   "metadata": {},
   "outputs": [
    {
     "name": "stdout",
     "output_type": "stream",
     "text": [
      "-20\n",
      "False\n"
     ]
    }
   ],
   "source": [
    "A = int(input())\n",
    "print(-15 < A <= 12 or 14 < A < 17 or A >= 19)"
   ]
  },
  {
   "cell_type": "code",
   "execution_count": 52,
   "metadata": {},
   "outputs": [
    {
     "name": "stdout",
     "output_type": "stream",
     "text": [
      "первое число 5\n",
      "второе число 10\n",
      "операция /\n",
      "0.5\n"
     ]
    }
   ],
   "source": [
    "#простой калькулятор\n",
    "A = float(input()) #'первое число '\n",
    "B = float(input()) #'второе число '\n",
    "op = input() #'операция '\n",
    "if op == '+':\n",
    "    print(A + B)\n",
    "elif op == '-':\n",
    "    print(A - B)\n",
    "elif op == '/':\n",
    "    if B == 0:\n",
    "        print('Деление на 0!')\n",
    "    else:\n",
    "        print(A / B)\n",
    "elif op == '*':\n",
    "    print(A * B)\n",
    "elif op == 'mod':\n",
    "    if B == 0:\n",
    "        print('Деление на 0!')\n",
    "    else:\n",
    "        print(A % B)\n",
    "elif op == 'pow':\n",
    "    print(A ** B)\n",
    "elif op == 'div':\n",
    "    if B == 0:\n",
    "        print('Деление на 0!')\n",
    "    else:\n",
    "        print(A // B)"
   ]
  },
  {
   "cell_type": "code",
   "execution_count": 55,
   "metadata": {},
   "outputs": [
    {
     "name": "stdout",
     "output_type": "stream",
     "text": [
      "треугольник\n",
      "3\n",
      "4\n",
      "5\n",
      "6.0\n"
     ]
    }
   ],
   "source": [
    "#Жители страны Малевии часто экспериментируют с планировкой комнат\n",
    "fig = input()\n",
    "if fig == 'треугольник':\n",
    "    A = int(input())\n",
    "    B = int(input())\n",
    "    C = int(input())\n",
    "    P = (A + B + C) / 2\n",
    "    S = (P * (P - A) * (P - B) * (P - C)) ** 0.5\n",
    "elif fig == 'прямоугольник':\n",
    "    A = int(input())\n",
    "    B = int(input())\n",
    "    S = A * B\n",
    "elif fig == 'круг':\n",
    "    r = int(input())\n",
    "    Pi = 3.14\n",
    "    S = Pi * r * r\n",
    "\n",
    "print(S)\n"
   ]
  },
  {
   "cell_type": "code",
   "execution_count": 88,
   "metadata": {},
   "outputs": [
    {
     "name": "stdout",
     "output_type": "stream",
     "text": [
      "8\n",
      "2\n",
      "14\n",
      "14\n",
      "2\n",
      "8\n"
     ]
    }
   ],
   "source": [
    "#Напишите программу, которая получает на вход три целых числа, по одному числу в строке, и выводит на консоль в три строки сначала максимальное, потом минимальное, после чего оставшееся число\n",
    "A, B, C = int(input()), int(input()), int(input())\n",
    "if A >= B:\n",
    "    mx = A\n",
    "    mn = B\n",
    "else:\n",
    "    mx = B\n",
    "    mn = A\n",
    "\n",
    "if mx < C:\n",
    "    mx = C\n",
    "else:\n",
    "    if C < mn:\n",
    "        mn = C\n",
    "us = (A + B + C) - (mx + mn)\n",
    "print(mx, mn, us, sep=\"\\n\")"
   ]
  },
  {
   "cell_type": "code",
   "execution_count": 32,
   "metadata": {},
   "outputs": [
    {
     "name": "stdout",
     "output_type": "stream",
     "text": [
      "1213\n",
      "1213 программистов\n"
     ]
    }
   ],
   "source": [
    "#по офису передвигается робот\n",
    "nStr = input()\n",
    "word = 'программист'\n",
    "nK10 = int(nStr) % 10\n",
    "nK100 = int(nStr) % 100\n",
    "\n",
    "if 11 <= nK100 <= 14:\n",
    "    word = word + 'ов'\n",
    "elif nK10 == 1:\n",
    "    word = word\n",
    "elif 2 <= nK10 <= 4:\n",
    "    word = word + 'а'\n",
    "else:\n",
    "    word = word + 'ов'\n",
    "    \n",
    "word = nStr + ' ' + word\n",
    "print(word)"
   ]
  },
  {
   "cell_type": "code",
   "execution_count": 57,
   "metadata": {},
   "outputs": [
    {
     "name": "stdout",
     "output_type": "stream",
     "text": [
      "002101\n",
      "Счастливый\n"
     ]
    }
   ],
   "source": [
    "#Паша очень любит кататься на общественном транспорте\n",
    "nStr = input()\n",
    "nL = int(nStr) // 1e3\n",
    "nR = int(nStr) - nL * 1e3\n",
    "if (nL//1e2 + nL//1e1%1e1 + nL%1e1) == (nR//1e2 + nR//1e1%1e1 + nR%1e1):\n",
    "    print('Счастливый')\n",
    "else:\n",
    "    print('Обычный')"
   ]
  },
  {
   "cell_type": "code",
   "execution_count": null,
   "metadata": {},
   "outputs": [],
   "source": [
    "i = 0\n",
    "while i <= 10:\n",
    "    i = i + 1\n",
    "    if i > 7:\n",
    "        i = i + 2\n",
    "print(i)"
   ]
  },
  {
   "cell_type": "code",
   "execution_count": null,
   "metadata": {},
   "outputs": [],
   "source": [
    "i = 0\n",
    "while i < 5:\n",
    "    print('*')\n",
    "    if i % 2 == 0:\n",
    "        print('**')\n",
    "    if i > 2:\n",
    "        print('***')\n",
    "    i = i + 1"
   ]
  },
  {
   "cell_type": "code",
   "execution_count": 5,
   "metadata": {},
   "outputs": [
    {
     "name": "stdout",
     "output_type": "stream",
     "text": [
      "0\n",
      "0\n"
     ]
    }
   ],
   "source": [
    "a = int(input())\n",
    "s = a\n",
    "while a != 0:\n",
    "    a = int(input())\n",
    "    s += a\n",
    "\n",
    "print(s)"
   ]
  },
  {
   "cell_type": "code",
   "execution_count": 10,
   "metadata": {},
   "outputs": [
    {
     "name": "stdout",
     "output_type": "stream",
     "text": [
      "12\n",
      "16\n",
      "48\n"
     ]
    }
   ],
   "source": [
    "a = int(input())\n",
    "b = int(input())\n",
    "i = a\n",
    "if i < b:\n",
    "    i = b\n",
    "while i > 0:\n",
    "    if i % a == 0 and i % b == 0:\n",
    "        print(i)\n",
    "        i = -1\n",
    "    i += 1\n"
   ]
  },
  {
   "cell_type": "code",
   "execution_count": 2,
   "metadata": {},
   "outputs": [
    {
     "name": "stdout",
     "output_type": "stream",
     "text": [
      "7\n"
     ]
    }
   ],
   "source": [
    "i = 0\n",
    "s = 0\n",
    "while i < 10:\n",
    "    i = i + 1\n",
    "    s = s + i\n",
    "    if s > 15:\n",
    "        break\n",
    "    i = i + 1\n",
    "print(i)"
   ]
  },
  {
   "cell_type": "code",
   "execution_count": 3,
   "metadata": {},
   "outputs": [
    {
     "name": "stdout",
     "output_type": "stream",
     "text": [
      "10\n"
     ]
    }
   ],
   "source": [
    "i = 0\n",
    "s = 0\n",
    "while i < 10:\n",
    "    i = i + 1\n",
    "    s = s + i\n",
    "    if s > 15:\n",
    "        continue\n",
    "    i = i + 1\n",
    "print(i)"
   ]
  },
  {
   "cell_type": "code",
   "execution_count": 3,
   "metadata": {},
   "outputs": [
    {
     "name": "stdout",
     "output_type": "stream",
     "text": [
      "1\n",
      "2\n",
      "102\n"
     ]
    }
   ],
   "source": [
    "i = 1\n",
    "while i > 0:\n",
    "    a = int(input())\n",
    "    if a > 100:\n",
    "        break\n",
    "    if a < 10:\n",
    "        continue\n",
    "    print(a)\n",
    "    i += 1"
   ]
  },
  {
   "cell_type": "code",
   "execution_count": 30,
   "metadata": {},
   "outputs": [
    {
     "name": "stdout",
     "output_type": "stream",
     "text": [
      "7\n",
      "10\n",
      "5\n",
      "6\n",
      " \t5\t6\t\n",
      "7\t35\t42\t\n",
      "8\t40\t48\t\n",
      "9\t45\t54\t\n",
      "10\t50\t60\t\n"
     ]
    }
   ],
   "source": [
    "#запоминал таблицу умножения прямоугольными блоками\n",
    "a = int(input())\n",
    "b = int(input())\n",
    "c = int(input())\n",
    "d = int(input())\n",
    "\n",
    "for i in range(a, b + 2):\n",
    "    if i == a:\n",
    "        print(' ', end = '\\t')\n",
    "    else:\n",
    "        print(i - 1, end = '\\t')\n",
    "    \n",
    "    for j in range(c, d + 1):\n",
    "        if i == a:\n",
    "            print(j, end = '\\t')\n",
    "        else:\n",
    "            print((i-1)*j, end = '\\t')\n",
    "    print()"
   ]
  },
  {
   "cell_type": "code",
   "execution_count": 1,
   "metadata": {},
   "outputs": [
    {
     "name": "stdout",
     "output_type": "stream",
     "text": [
      "3\n",
      "6\n",
      "4.5\n"
     ]
    }
   ],
   "source": [
    "#среднее арифметическое всех чисел из отрезка [a;b], которые делятся на 3\n",
    "#a,b = (int(i) for i in input().split())\n",
    "a = int(input())\n",
    "b = int(input())\n",
    "\n",
    "while a%3 != 0:\n",
    "    a += 1\n",
    "#print('a =', a)\n",
    "s = 0\n",
    "cnt = 0\n",
    "for i in range(a, b + 1, 3):\n",
    "    s += i\n",
    "    cnt += 1\n",
    "    #print('cnt:', cnt, 'i:', i, 's:', s)\n",
    "\n",
    "print(s / cnt)"
   ]
  },
  {
   "cell_type": "markdown",
   "metadata": {},
   "source": [
    "#процентное содержание символов G (гуанин) и C (цитозин) в введенной строке \n",
    "genome = input()\n"
   ]
  },
  {
   "cell_type": "code",
   "execution_count": 3,
   "metadata": {},
   "outputs": [
    {
     "name": "stdout",
     "output_type": "stream",
     "text": [
      "acggtgttat\n",
      "40.0\n"
     ]
    }
   ],
   "source": [
    "#процентное содержание символов G (гуанин) и C (цитозин) в введенной строке\n",
    "genome = input()\n",
    "Gstr = genome.upper()\n",
    "print((Gstr.count('G') + Gstr.count('C')) / len(Gstr) * 100)"
   ]
  },
  {
   "cell_type": "code",
   "execution_count": 5,
   "metadata": {},
   "outputs": [
    {
     "name": "stdout",
     "output_type": "stream",
     "text": [
      "abcde\n"
     ]
    }
   ],
   "source": [
    "st = 'abcdefghijk'\n",
    "print(st[:-6])"
   ]
  },
  {
   "cell_type": "code",
   "execution_count": 17,
   "metadata": {},
   "outputs": [
    {
     "name": "stdout",
     "output_type": "stream",
     "text": [
      "abc\n",
      "a1b1c1\n"
     ]
    }
   ],
   "source": [
    "#алгоритм сжатия, который сжимает повторяющиеся символы в строке\n",
    "st = input()\n",
    "cnt = 0\n",
    "s1 = st[0]\n",
    "stSyf = ''\n",
    "\n",
    "for i in st:\n",
    "    if s1 == i:\n",
    "        cnt += 1\n",
    "    else:\n",
    "        stSyf = stSyf + s1 + str(cnt)\n",
    "        cnt = 1\n",
    "\n",
    "    #print(s1, i, str(cnt), stSyf)\n",
    "    s1 = i\n",
    "\n",
    "stSyf = stSyf + s1 + str(cnt)\n",
    "print(stSyf)"
   ]
  },
  {
   "cell_type": "code",
   "execution_count": null,
   "metadata": {},
   "outputs": [],
   "source": []
  }
 ],
 "metadata": {
  "kernelspec": {
   "display_name": "Python 3",
   "language": "python",
   "name": "python3"
  },
  "language_info": {
   "codemirror_mode": {
    "name": "ipython",
    "version": 3
   },
   "file_extension": ".py",
   "mimetype": "text/x-python",
   "name": "python",
   "nbconvert_exporter": "python",
   "pygments_lexer": "ipython3",
   "version": "3.7.4"
  }
 },
 "nbformat": 4,
 "nbformat_minor": 2
}
