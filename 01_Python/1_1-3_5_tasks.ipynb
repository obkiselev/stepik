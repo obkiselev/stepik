{
 "cells": [
  {
   "cell_type": "code",
   "execution_count": 1,
   "metadata": {},
   "outputs": [
    {
     "data": {
      "text/plain": [
       "7"
      ]
     },
     "execution_count": 1,
     "metadata": {},
     "output_type": "execute_result"
    }
   ],
   "source": [
    "4+3\n"
   ]
  },
  {
   "cell_type": "code",
   "execution_count": 4,
   "metadata": {},
   "outputs": [
    {
     "data": {
      "text/plain": [
       "12345554321"
      ]
     },
     "execution_count": 4,
     "metadata": {},
     "output_type": "execute_result"
    }
   ],
   "source": [
    "11111*1111111"
   ]
  },
  {
   "cell_type": "code",
   "execution_count": 5,
   "metadata": {},
   "outputs": [
    {
     "ename": "ZeroDivisionError",
     "evalue": "division by zero",
     "output_type": "error",
     "traceback": [
      "\u001b[1;31m---------------------------------------------------------------------------\u001b[0m",
      "\u001b[1;31mZeroDivisionError\u001b[0m                         Traceback (most recent call last)",
      "\u001b[1;32m<ipython-input-5-f796ee6ce2a8>\u001b[0m in \u001b[0;36m<module>\u001b[1;34m\u001b[0m\n\u001b[1;32m----> 1\u001b[1;33m \u001b[1;36m42\u001b[0m \u001b[1;33m/\u001b[0m \u001b[1;33m(\u001b[0m\u001b[1;36m4\u001b[0m\u001b[1;33m+\u001b[0m\u001b[1;36m2\u001b[0m\u001b[1;33m*\u001b[0m\u001b[1;33m(\u001b[0m\u001b[1;33m-\u001b[0m\u001b[1;36m2\u001b[0m\u001b[1;33m)\u001b[0m\u001b[1;33m)\u001b[0m\u001b[1;33m\u001b[0m\u001b[1;33m\u001b[0m\u001b[0m\n\u001b[0m",
      "\u001b[1;31mZeroDivisionError\u001b[0m: division by zero"
     ]
    }
   ],
   "source": [
    "42 / (4+2*(-2))"
   ]
  },
  {
   "cell_type": "code",
   "execution_count": 6,
   "metadata": {},
   "outputs": [
    {
     "data": {
      "text/plain": [
       "18064773765607550801425251468864907833685590016"
      ]
     },
     "execution_count": 6,
     "metadata": {},
     "output_type": "execute_result"
    }
   ],
   "source": [
    "2014**14"
   ]
  },
  {
   "cell_type": "code",
   "execution_count": 7,
   "metadata": {},
   "outputs": [
    {
     "data": {
      "text/plain": [
       "1234.5"
      ]
     },
     "execution_count": 7,
     "metadata": {},
     "output_type": "execute_result"
    }
   ],
   "source": [
    "1.2345e3\n"
   ]
  },
  {
   "cell_type": "code",
   "execution_count": 8,
   "metadata": {},
   "outputs": [
    {
     "data": {
      "text/plain": [
       "0.0012345"
      ]
     },
     "execution_count": 8,
     "metadata": {},
     "output_type": "execute_result"
    }
   ],
   "source": [
    "1.2345e-3"
   ]
  },
  {
   "cell_type": "code",
   "execution_count": 9,
   "metadata": {},
   "outputs": [
    {
     "data": {
      "text/plain": [
       "1.806477376560755e+46"
      ]
     },
     "execution_count": 9,
     "metadata": {},
     "output_type": "execute_result"
    }
   ],
   "source": [
    "2014.0**14"
   ]
  },
  {
   "cell_type": "code",
   "execution_count": 10,
   "metadata": {},
   "outputs": [
    {
     "data": {
      "text/plain": [
       "2.3333333333333335"
      ]
     },
     "execution_count": 10,
     "metadata": {},
     "output_type": "execute_result"
    }
   ],
   "source": [
    "7/3 "
   ]
  },
  {
   "cell_type": "code",
   "execution_count": 11,
   "metadata": {},
   "outputs": [
    {
     "data": {
      "text/plain": [
       "2"
      ]
     },
     "execution_count": 11,
     "metadata": {},
     "output_type": "execute_result"
    }
   ],
   "source": [
    "7//3"
   ]
  },
  {
   "cell_type": "code",
   "execution_count": 12,
   "metadata": {},
   "outputs": [
    {
     "data": {
      "text/plain": [
       "2"
      ]
     },
     "execution_count": 12,
     "metadata": {},
     "output_type": "execute_result"
    }
   ],
   "source": [
    "int(2.99)"
   ]
  },
  {
   "cell_type": "code",
   "execution_count": 13,
   "metadata": {},
   "outputs": [
    {
     "data": {
      "text/plain": [
       "-1"
      ]
     },
     "execution_count": 13,
     "metadata": {},
     "output_type": "execute_result"
    }
   ],
   "source": [
    "int(-1.6)"
   ]
  },
  {
   "cell_type": "code",
   "execution_count": 14,
   "metadata": {},
   "outputs": [
    {
     "data": {
      "text/plain": [
       "89"
      ]
     },
     "execution_count": 14,
     "metadata": {},
     "output_type": "execute_result"
    }
   ],
   "source": [
    "9**19 - int(float(9**19))"
   ]
  },
  {
   "cell_type": "code",
   "execution_count": 15,
   "metadata": {},
   "outputs": [
    {
     "name": "stdout",
     "output_type": "stream",
     "text": [
      "In:3\n"
     ]
    },
    {
     "data": {
      "text/plain": [
       "'3'"
      ]
     },
     "execution_count": 15,
     "metadata": {},
     "output_type": "execute_result"
    }
   ],
   "source": [
    "input('In:')"
   ]
  },
  {
   "cell_type": "code",
   "execution_count": 16,
   "metadata": {},
   "outputs": [],
   "source": [
    "a=3\n"
   ]
  },
  {
   "cell_type": "code",
   "execution_count": 17,
   "metadata": {},
   "outputs": [
    {
     "data": {
      "text/plain": [
       "3"
      ]
     },
     "execution_count": 17,
     "metadata": {},
     "output_type": "execute_result"
    }
   ],
   "source": [
    "a"
   ]
  },
  {
   "cell_type": "code",
   "execution_count": 18,
   "metadata": {},
   "outputs": [],
   "source": [
    "a+=4"
   ]
  },
  {
   "cell_type": "code",
   "execution_count": 19,
   "metadata": {},
   "outputs": [
    {
     "data": {
      "text/plain": [
       "7"
      ]
     },
     "execution_count": 19,
     "metadata": {},
     "output_type": "execute_result"
    }
   ],
   "source": [
    "a"
   ]
  },
  {
   "cell_type": "code",
   "execution_count": 20,
   "metadata": {},
   "outputs": [
    {
     "name": "stdout",
     "output_type": "stream",
     "text": [
      "7\n",
      "30\n",
      "450\n"
     ]
    }
   ],
   "source": [
    "X = int(input())\n",
    "Y = int(input())\n",
    "print(X*60 + Y)"
   ]
  },
  {
   "cell_type": "code",
   "execution_count": 22,
   "metadata": {},
   "outputs": [
    {
     "name": "stdout",
     "output_type": "stream",
     "text": [
      "512\n",
      "8\n",
      "32\n"
     ]
    }
   ],
   "source": [
    "X = int(input())\n",
    "print(X // 60)\n",
    "print(X % 60)"
   ]
  },
  {
   "cell_type": "code",
   "execution_count": 29,
   "metadata": {},
   "outputs": [
    {
     "name": "stdout",
     "output_type": "stream",
     "text": [
      "480\n",
      "1\n",
      "2\n",
      "9\n",
      "2\n"
     ]
    }
   ],
   "source": [
    "#Катя узнала, что ей для сна надо X минут\n",
    "X = int(input())\n",
    "H = int(input())\n",
    "M = int(input())\n",
    "print((H * 60 + M + X) // 60)\n",
    "print((M + X) % 60)"
   ]
  },
  {
   "cell_type": "code",
   "execution_count": 31,
   "metadata": {},
   "outputs": [
    {
     "data": {
      "text/plain": [
       "True"
      ]
     },
     "execution_count": 31,
     "metadata": {},
     "output_type": "execute_result"
    }
   ],
   "source": [
    "x = 5\n",
    "y = 10\n",
    "y > x * x or y >= 2 * x and x < y\n"
   ]
  },
  {
   "cell_type": "code",
   "execution_count": 32,
   "metadata": {},
   "outputs": [
    {
     "data": {
      "text/plain": [
       "False"
      ]
     },
     "execution_count": 32,
     "metadata": {},
     "output_type": "execute_result"
    }
   ],
   "source": [
    "a = True\n",
    "b = False\n",
    "((a and b) or ((not a) and (not b)))"
   ]
  },
  {
   "cell_type": "code",
   "execution_count": 35,
   "metadata": {},
   "outputs": [
    {
     "name": "stdout",
     "output_type": "stream",
     "text": [
      "7\n",
      "9\n",
      "2\n",
      "Недосып\n"
     ]
    }
   ],
   "source": [
    "#Из передачи “Здоровье” Аня узнала, что рекомендуется спать хотя бы A часов в сутки, но пересыпать тоже вредно и не стоит спать более B часов\n",
    "A = int(input())\n",
    "B = int(input())\n",
    "H = int(input())\n",
    "if H < A:\n",
    "    print('Недосып')\n",
    "elif H > B:\n",
    "    print('Пересып')\n",
    "else:\n",
    "    print('Это нормально')"
   ]
  },
  {
   "cell_type": "code",
   "execution_count": 41,
   "metadata": {},
   "outputs": [
    {
     "name": "stdout",
     "output_type": "stream",
     "text": [
      "2020\n",
      "Високосный\n"
     ]
    }
   ],
   "source": [
    "#ребуется определить, является ли данный год високосным.\n",
    "Y = int(input())\n",
    "if (Y % 4 == 0 and Y % 100 != 0) or Y % 400 == 0:\n",
    "    print('Високосный')\n",
    "else:\n",
    "    print('Обычный')"
   ]
  },
  {
   "cell_type": "code",
   "execution_count": 42,
   "metadata": {},
   "outputs": [
    {
     "name": "stdout",
     "output_type": "stream",
     "text": [
      "3\n",
      "4\n",
      "5\n",
      "6.0\n"
     ]
    }
   ],
   "source": [
    "#формула Герона\n",
    "A = int(input())\n",
    "B = int(input())\n",
    "C = int(input())\n",
    "P = (A + B + C) / 2\n",
    "S = (P * (P - A) * (P - B) * (P - C)) ** 0.5\n",
    "print(S)\n"
   ]
  },
  {
   "cell_type": "code",
   "execution_count": 44,
   "metadata": {},
   "outputs": [
    {
     "name": "stdout",
     "output_type": "stream",
     "text": [
      "-20\n",
      "False\n"
     ]
    }
   ],
   "source": [
    "A = int(input())\n",
    "print(-15 < A <= 12 or 14 < A < 17 or A >= 19)"
   ]
  },
  {
   "cell_type": "code",
   "execution_count": 52,
   "metadata": {},
   "outputs": [
    {
     "name": "stdout",
     "output_type": "stream",
     "text": [
      "первое число 5\n",
      "второе число 10\n",
      "операция /\n",
      "0.5\n"
     ]
    }
   ],
   "source": [
    "#простой калькулятор\n",
    "A = float(input()) #'первое число '\n",
    "B = float(input()) #'второе число '\n",
    "op = input() #'операция '\n",
    "if op == '+':\n",
    "    print(A + B)\n",
    "elif op == '-':\n",
    "    print(A - B)\n",
    "elif op == '/':\n",
    "    if B == 0:\n",
    "        print('Деление на 0!')\n",
    "    else:\n",
    "        print(A / B)\n",
    "elif op == '*':\n",
    "    print(A * B)\n",
    "elif op == 'mod':\n",
    "    if B == 0:\n",
    "        print('Деление на 0!')\n",
    "    else:\n",
    "        print(A % B)\n",
    "elif op == 'pow':\n",
    "    print(A ** B)\n",
    "elif op == 'div':\n",
    "    if B == 0:\n",
    "        print('Деление на 0!')\n",
    "    else:\n",
    "        print(A // B)"
   ]
  },
  {
   "cell_type": "code",
   "execution_count": 55,
   "metadata": {},
   "outputs": [
    {
     "name": "stdout",
     "output_type": "stream",
     "text": [
      "треугольник\n",
      "3\n",
      "4\n",
      "5\n",
      "6.0\n"
     ]
    }
   ],
   "source": [
    "#Жители страны Малевии часто экспериментируют с планировкой комнат\n",
    "fig = input()\n",
    "if fig == 'треугольник':\n",
    "    A = int(input())\n",
    "    B = int(input())\n",
    "    C = int(input())\n",
    "    P = (A + B + C) / 2\n",
    "    S = (P * (P - A) * (P - B) * (P - C)) ** 0.5\n",
    "elif fig == 'прямоугольник':\n",
    "    A = int(input())\n",
    "    B = int(input())\n",
    "    S = A * B\n",
    "elif fig == 'круг':\n",
    "    r = int(input())\n",
    "    Pi = 3.14\n",
    "    S = Pi * r * r\n",
    "\n",
    "print(S)\n"
   ]
  },
  {
   "cell_type": "code",
   "execution_count": 88,
   "metadata": {},
   "outputs": [
    {
     "name": "stdout",
     "output_type": "stream",
     "text": [
      "8\n",
      "2\n",
      "14\n",
      "14\n",
      "2\n",
      "8\n"
     ]
    }
   ],
   "source": [
    "#Напишите программу, которая получает на вход три целых числа, по одному числу в строке, и выводит на консоль в три строки сначала максимальное, потом минимальное, после чего оставшееся число\n",
    "A, B, C = int(input()), int(input()), int(input())\n",
    "if A >= B:\n",
    "    mx = A\n",
    "    mn = B\n",
    "else:\n",
    "    mx = B\n",
    "    mn = A\n",
    "\n",
    "if mx < C:\n",
    "    mx = C\n",
    "else:\n",
    "    if C < mn:\n",
    "        mn = C\n",
    "us = (A + B + C) - (mx + mn)\n",
    "print(mx, mn, us, sep=\"\\n\")"
   ]
  },
  {
   "cell_type": "code",
   "execution_count": 32,
   "metadata": {},
   "outputs": [
    {
     "name": "stdout",
     "output_type": "stream",
     "text": [
      "1213\n",
      "1213 программистов\n"
     ]
    }
   ],
   "source": [
    "#по офису передвигается робот\n",
    "nStr = input()\n",
    "word = 'программист'\n",
    "nK10 = int(nStr) % 10\n",
    "nK100 = int(nStr) % 100\n",
    "\n",
    "if 11 <= nK100 <= 14:\n",
    "    word = word + 'ов'\n",
    "elif nK10 == 1:\n",
    "    word = word\n",
    "elif 2 <= nK10 <= 4:\n",
    "    word = word + 'а'\n",
    "else:\n",
    "    word = word + 'ов'\n",
    "    \n",
    "word = nStr + ' ' + word\n",
    "print(word)"
   ]
  },
  {
   "cell_type": "code",
   "execution_count": 57,
   "metadata": {},
   "outputs": [
    {
     "name": "stdout",
     "output_type": "stream",
     "text": [
      "002101\n",
      "Счастливый\n"
     ]
    }
   ],
   "source": [
    "#Паша очень любит кататься на общественном транспорте\n",
    "nStr = input()\n",
    "nL = int(nStr) // 1e3\n",
    "nR = int(nStr) - nL * 1e3\n",
    "if (nL//1e2 + nL//1e1%1e1 + nL%1e1) == (nR//1e2 + nR//1e1%1e1 + nR%1e1):\n",
    "    print('Счастливый')\n",
    "else:\n",
    "    print('Обычный')"
   ]
  },
  {
   "cell_type": "code",
   "execution_count": null,
   "metadata": {},
   "outputs": [],
   "source": [
    "i = 0\n",
    "while i <= 10:\n",
    "    i = i + 1\n",
    "    if i > 7:\n",
    "        i = i + 2\n",
    "print(i)"
   ]
  },
  {
   "cell_type": "code",
   "execution_count": null,
   "metadata": {},
   "outputs": [],
   "source": [
    "i = 0\n",
    "while i < 5:\n",
    "    print('*')\n",
    "    if i % 2 == 0:\n",
    "        print('**')\n",
    "    if i > 2:\n",
    "        print('***')\n",
    "    i = i + 1"
   ]
  },
  {
   "cell_type": "code",
   "execution_count": 5,
   "metadata": {},
   "outputs": [
    {
     "name": "stdout",
     "output_type": "stream",
     "text": [
      "0\n",
      "0\n"
     ]
    }
   ],
   "source": [
    "a = int(input())\n",
    "s = a\n",
    "while a != 0:\n",
    "    a = int(input())\n",
    "    s += a\n",
    "\n",
    "print(s)"
   ]
  },
  {
   "cell_type": "code",
   "execution_count": 10,
   "metadata": {},
   "outputs": [
    {
     "name": "stdout",
     "output_type": "stream",
     "text": [
      "12\n",
      "16\n",
      "48\n"
     ]
    }
   ],
   "source": [
    "a = int(input())\n",
    "b = int(input())\n",
    "i = a\n",
    "if i < b:\n",
    "    i = b\n",
    "while i > 0:\n",
    "    if i % a == 0 and i % b == 0:\n",
    "        print(i)\n",
    "        i = -1\n",
    "    i += 1\n"
   ]
  },
  {
   "cell_type": "code",
   "execution_count": 2,
   "metadata": {},
   "outputs": [
    {
     "name": "stdout",
     "output_type": "stream",
     "text": [
      "7\n"
     ]
    }
   ],
   "source": [
    "i = 0\n",
    "s = 0\n",
    "while i < 10:\n",
    "    i = i + 1\n",
    "    s = s + i\n",
    "    if s > 15:\n",
    "        break\n",
    "    i = i + 1\n",
    "print(i)"
   ]
  },
  {
   "cell_type": "code",
   "execution_count": 3,
   "metadata": {},
   "outputs": [
    {
     "name": "stdout",
     "output_type": "stream",
     "text": [
      "10\n"
     ]
    }
   ],
   "source": [
    "i = 0\n",
    "s = 0\n",
    "while i < 10:\n",
    "    i = i + 1\n",
    "    s = s + i\n",
    "    if s > 15:\n",
    "        continue\n",
    "    i = i + 1\n",
    "print(i)"
   ]
  },
  {
   "cell_type": "code",
   "execution_count": 3,
   "metadata": {},
   "outputs": [
    {
     "name": "stdout",
     "output_type": "stream",
     "text": [
      "1\n",
      "2\n",
      "102\n"
     ]
    }
   ],
   "source": [
    "i = 1\n",
    "while i > 0:\n",
    "    a = int(input())\n",
    "    if a > 100:\n",
    "        break\n",
    "    if a < 10:\n",
    "        continue\n",
    "    print(a)\n",
    "    i += 1"
   ]
  },
  {
   "cell_type": "code",
   "execution_count": 30,
   "metadata": {},
   "outputs": [
    {
     "name": "stdout",
     "output_type": "stream",
     "text": [
      "7\n",
      "10\n",
      "5\n",
      "6\n",
      " \t5\t6\t\n",
      "7\t35\t42\t\n",
      "8\t40\t48\t\n",
      "9\t45\t54\t\n",
      "10\t50\t60\t\n"
     ]
    }
   ],
   "source": [
    "#запоминал таблицу умножения прямоугольными блоками\n",
    "a = int(input())\n",
    "b = int(input())\n",
    "c = int(input())\n",
    "d = int(input())\n",
    "\n",
    "for i in range(a, b + 2):\n",
    "    if i == a:\n",
    "        print(' ', end = '\\t')\n",
    "    else:\n",
    "        print(i - 1, end = '\\t')\n",
    "    \n",
    "    for j in range(c, d + 1):\n",
    "        if i == a:\n",
    "            print(j, end = '\\t')\n",
    "        else:\n",
    "            print((i-1)*j, end = '\\t')\n",
    "    print()"
   ]
  },
  {
   "cell_type": "code",
   "execution_count": 1,
   "metadata": {},
   "outputs": [
    {
     "name": "stdout",
     "output_type": "stream",
     "text": [
      "3\n",
      "6\n",
      "4.5\n"
     ]
    }
   ],
   "source": [
    "#среднее арифметическое всех чисел из отрезка [a;b], которые делятся на 3\n",
    "#a,b = (int(i) for i in input().split())\n",
    "a = int(input())\n",
    "b = int(input())\n",
    "\n",
    "while a%3 != 0:\n",
    "    a += 1\n",
    "#print('a =', a)\n",
    "s = 0\n",
    "cnt = 0\n",
    "for i in range(a, b + 1, 3):\n",
    "    s += i\n",
    "    cnt += 1\n",
    "    #print('cnt:', cnt, 'i:', i, 's:', s)\n",
    "\n",
    "print(s / cnt)"
   ]
  },
  {
   "cell_type": "markdown",
   "metadata": {},
   "source": [
    "#процентное содержание символов G (гуанин) и C (цитозин) в введенной строке \n",
    "genome = input()\n"
   ]
  },
  {
   "cell_type": "code",
   "execution_count": 3,
   "metadata": {},
   "outputs": [
    {
     "name": "stdout",
     "output_type": "stream",
     "text": [
      "acggtgttat\n",
      "40.0\n"
     ]
    }
   ],
   "source": [
    "#процентное содержание символов G (гуанин) и C (цитозин) в введенной строке\n",
    "genome = input()\n",
    "Gstr = genome.upper()\n",
    "print((Gstr.count('G') + Gstr.count('C')) / len(Gstr) * 100)"
   ]
  },
  {
   "cell_type": "code",
   "execution_count": 5,
   "metadata": {},
   "outputs": [
    {
     "name": "stdout",
     "output_type": "stream",
     "text": [
      "abcde\n"
     ]
    }
   ],
   "source": [
    "st = 'abcdefghijk'\n",
    "print(st[:-6])"
   ]
  },
  {
   "cell_type": "code",
   "execution_count": 17,
   "metadata": {},
   "outputs": [
    {
     "name": "stdout",
     "output_type": "stream",
     "text": [
      "abc\n",
      "a1b1c1\n"
     ]
    }
   ],
   "source": [
    "#алгоритм сжатия, который сжимает повторяющиеся символы в строке\n",
    "st = input()\n",
    "cnt = 0\n",
    "s1 = st[0]\n",
    "stSyf = ''\n",
    "\n",
    "for i in st:\n",
    "    if s1 == i:\n",
    "        cnt += 1\n",
    "    else:\n",
    "        stSyf = stSyf + s1 + str(cnt)\n",
    "        cnt = 1\n",
    "\n",
    "    #print(s1, i, str(cnt), stSyf)\n",
    "    s1 = i\n",
    "\n",
    "stSyf = stSyf + s1 + str(cnt)\n",
    "print(stSyf)"
   ]
  },
  {
   "cell_type": "code",
   "execution_count": 2,
   "metadata": {},
   "outputs": [
    {
     "name": "stdout",
     "output_type": "stream",
     "text": [
      "['Ivan', 'Masha', 'Sasha', 'Olga', 'O', 'l', 'g', 'a']\n"
     ]
    }
   ],
   "source": [
    "students = ['Ivan', 'Masha', 'Sasha']\n",
    "students += ['Olga']\n",
    "students += 'Olga'\n",
    "print(students)"
   ]
  },
  {
   "cell_type": "code",
   "execution_count": 3,
   "metadata": {},
   "outputs": [
    {
     "name": "stdout",
     "output_type": "stream",
     "text": [
      "4 -1 9 3\n",
      "15\n"
     ]
    }
   ],
   "source": [
    "#Программа должна вывести сумму этих чисел\n",
    "lst = [int(i) for i in input().split()]\n",
    "s = 0\n",
    "for i in lst:\n",
    "    s += i\n",
    "print(s)"
   ]
  },
  {
   "cell_type": "code",
   "execution_count": 1,
   "metadata": {},
   "outputs": [
    {
     "name": "stdout",
     "output_type": "stream",
     "text": [
      "1 2 3 4 0\n",
      "2 4 6 3 5 "
     ]
    }
   ],
   "source": [
    "#для каждого элемента этого списка вывести сумму двух его соседей\n",
    "lst = [int(i) for i in input().split()]\n",
    "if len(lst) == 1:\n",
    "    lstNew = lst\n",
    "else:\n",
    "    ind = -1\n",
    "    lstNew = []\n",
    "    for i in lst:\n",
    "        ind += 1\n",
    "        #print('ind:', ind, ', val:', i)\n",
    "        if ind == 0:\n",
    "            lstNew.append(lst[len(lst) - 1] + lst[ind + 1])\n",
    "        elif ind == len(lst) - 1:\n",
    "            lstNew.append(lst[ind - 1] + lst[0])\n",
    "        else:\n",
    "            #print('  ind-1:', lst[ind - 1], ', ind+1:', lst[ind + 1])\n",
    "            lstNew.append(lst[ind - 1] + lst[ind + 1])\n",
    "\n",
    "for i in lstNew:\n",
    "    print(i, end = ' ')"
   ]
  },
  {
   "cell_type": "markdown",
   "metadata": {},
   "source": [
    "#в одну строку значения, которые повторяются в нём более одного раза\n"
   ]
  },
  {
   "cell_type": "code",
   "execution_count": 25,
   "metadata": {},
   "outputs": [
    {
     "name": "stdout",
     "output_type": "stream",
     "text": [
      "4 8 0 3 4 2 0 3\n",
      "0 3 4 "
     ]
    }
   ],
   "source": [
    "#в одну строку значения, которые повторяются более одного раза\n",
    "lst = [int(i) for i in input().split()]\n",
    "lst.sort()\n",
    "iOld = ''\n",
    "cnt = 0\n",
    "\n",
    "for i in lst:\n",
    "    #print('iOld:', iOld, ', i:', i, ', cnt:', cnt)\n",
    "    if iOld != i:\n",
    "        cnt = 1\n",
    "    else:\n",
    "        cnt += 1\n",
    "    \n",
    "    iOld = i\n",
    "    if cnt == 2:\n",
    "        print(i, end = ' ')"
   ]
  },
  {
   "cell_type": "code",
   "execution_count": 2,
   "metadata": {},
   "outputs": [
    {
     "name": "stdout",
     "output_type": "stream",
     "text": [
      "1\n",
      "-3\n",
      "5\n",
      "-6\n",
      "-10\n",
      "13\n",
      "340\n"
     ]
    }
   ],
   "source": [
    "#считывает с консоли числа (по одному в строке) до тех пор, пока сумма \n",
    "#введённых чисел не будет равна 0 и сразу после этого выводит \n",
    "#сумму квадратов всех считанных чисел\n",
    "s = 0\n",
    "sSq = 0\n",
    "i = 1\n",
    "#print('i:', i, ', s:', s, ', sSq:', sSq)\n",
    "while i > 0:\n",
    "    x = int(input())\n",
    "    s += x\n",
    "    sSq += x * x\n",
    "    #print('x:', x, ', s:', s, ', sSq:', sSq)\n",
    "    if s == 0:\n",
    "        i = 0\n",
    "\n",
    "print(sSq)"
   ]
  },
  {
   "cell_type": "code",
   "execution_count": 22,
   "metadata": {},
   "outputs": [
    {
     "name": "stdout",
     "output_type": "stream",
     "text": [
      "4\n",
      "1 2 2 3 "
     ]
    }
   ],
   "source": [
    "#выводит часть последовательности 1 2 2 3 3 3 4 4 4 4 5 5 5 5 5 ... \n",
    "#(число повторяется столько раз, чему равно)\n",
    "#Например, если n = 7, то программа должна вывести 1 2 2 3 3 3 4\n",
    "a = int(input())\n",
    "cnt = 0\n",
    "for val in range(1, a + 1):\n",
    "    for seq in range(1, val + 1):\n",
    "        cnt += 1\n",
    "        if cnt > a:\n",
    "            break\n",
    "        print(val, end = ' ')"
   ]
  },
  {
   "cell_type": "code",
   "execution_count": 2,
   "metadata": {},
   "outputs": [
    {
     "name": "stdout",
     "output_type": "stream",
     "text": [
      "5 8 2 7 8 8 2 4\n",
      "10\n",
      "Отсутствует\n"
     ]
    }
   ],
   "source": [
    "#Напишите программу, которая считывает список чисел lst из первой строки \n",
    "#и число x из второй строки, которая выводит все позиции, на которых \n",
    "#встречается число x в переданном списке lst\n",
    "lst = [int(i) for i in input().split()]\n",
    "x = int(input())\n",
    "i = -1\n",
    "flag = False\n",
    "\n",
    "for val in lst:\n",
    "    i += 1\n",
    "    if x == val:\n",
    "        flag = True\n",
    "        print(i, end = ' ')\n",
    "\n",
    "if not flag:\n",
    "    print('Отсутствует')"
   ]
  },
  {
   "cell_type": "code",
   "execution_count": 11,
   "metadata": {},
   "outputs": [
    {
     "name": "stdout",
     "output_type": "stream",
     "text": [
      "9 5 3\n",
      "0 7 -1\n",
      "-5 2 9\n",
      "end\n",
      "---------- трансформация\n",
      "  индексы: [ 2 0 ] [ 1 0 ] [ 0 2 ] [ 0 1 ]\n",
      "  irowTr: [3]\n",
      "  индексы: [ 2 1 ] [ 1 1 ] [ 0 0 ] [ 0 2 ]\n",
      "  irowTr: [3, 21]\n",
      "  индексы: [ 2 2 ] [ 1 2 ] [ 0 1 ] [ 0 0 ]\n",
      "  irowTr: [3, 21, 22]\n",
      "  индексы: [ 0 0 ] [ 2 0 ] [ 1 2 ] [ 1 1 ]\n",
      "  irowTr: [10]\n",
      "  индексы: [ 0 1 ] [ 2 1 ] [ 1 0 ] [ 1 2 ]\n",
      "  irowTr: [10, 6]\n",
      "  индексы: [ 0 2 ] [ 2 2 ] [ 1 1 ] [ 1 0 ]\n",
      "  irowTr: [10, 6, 19]\n",
      "  индексы: [ 1 0 ] [ 0 0 ] [ 2 2 ] [ 2 1 ]\n",
      "  irowTr: [20]\n",
      "  индексы: [ 1 1 ] [ 0 1 ] [ 2 0 ] [ 2 2 ]\n",
      "  irowTr: [20, 16]\n",
      "  индексы: [ 1 2 ] [ 0 2 ] [ 2 1 ] [ 2 0 ]\n",
      "  irowTr: [20, 16, -1]\n",
      "---------- вывод трансформированной матрицы\n",
      "3 21 22 \n",
      "10 6 19 \n",
      "20 16 -1 \n"
     ]
    }
   ],
   "source": [
    "#на вход которой подаётся прямоугольная матрица в виде последовательности \n",
    "#строк, заканчивающихся строкой, содержащей только строку \"end\"\n",
    "mtrx = []\n",
    "ind = -1\n",
    "#заполнение первоначальной матрицы\n",
    "while ind < 0:\n",
    "    row = [str(i) for i in input().split()]\n",
    "    #print(row)\n",
    "    if row[0] == 'end':\n",
    "        break\n",
    "    else:\n",
    "        mtrx.append(row)\n",
    "indImax = int(len(mtrx) - 1)\n",
    "indJmax = int(len(mtrx[0]) - 1)\n",
    "\n",
    "#трансформация\n",
    "#print('---------- трансформация')\n",
    "#print('  indImax:', indImax, ', indJmax:', indJmax)\n",
    "mtrxTr = []\n",
    "for i in range(indImax + 1):\n",
    "    Imns1 = i - 1\n",
    "    Ipls1 = i + 1\n",
    "    if Imns1 < 0:\n",
    "        Imns1 = indImax\n",
    "    if Ipls1 > indImax:\n",
    "        Ipls1 = 0\n",
    "    #print('  i:', i, ', Imns1:', Imns1, ', Ipls1:', Ipls1)\n",
    "    rowTr = [] #обнуляем трансф. строку\n",
    "    for j in range(indJmax + 1):\n",
    "        Jmns1 = j - 1\n",
    "        Jpls1 = j + 1\n",
    "        if Jmns1 < 0:\n",
    "            Jmns1 = indJmax\n",
    "        if Jpls1 > indJmax:\n",
    "            Jpls1 = 0\n",
    "        #print('   j:', j, ', Jmns1:', Jmns1, ', Jpls1:', Jpls1)\n",
    "        #print('  индексы: [', Imns1,j, '] [', Ipls1,j, '] [', i,Jmns1, '] [', i,Jpls1, ']')\n",
    "        rowTr.append(int(mtrx[Imns1][j]) + int(mtrx[Ipls1][j]) + \n",
    "                     int(mtrx[i][Jmns1]) + int(mtrx[i][Jpls1]))\n",
    "        #print('  irowTr:', rowTr)\n",
    "    \n",
    "    mtrxTr.append(rowTr)\n",
    "\n",
    "#вывод трансформированной матрицы\n",
    "#print('---------- вывод трансформированной матрицы')\n",
    "for row in mtrxTr:\n",
    "    for val in row:\n",
    "        print(val, end = ' ')\n",
    "    print()\n"
   ]
  },
  {
   "cell_type": "code",
   "execution_count": 57,
   "metadata": {
    "scrolled": true
   },
   "outputs": [
    {
     "name": "stdout",
     "output_type": "stream",
     "text": [
      "5\n",
      "1 2 3 4 5 \n",
      "16 17 18 19 6 \n",
      "15 24 25 20 7 \n",
      "14 23 22 21 8 \n",
      "13 12 11 10 9 \n"
     ]
    }
   ],
   "source": [
    "#Выведите таблицу размером n×n, заполненную числами от 1 до n*n по спирали\n",
    "n = int(input())\n",
    "if n == 1:\n",
    "    print(n)\n",
    "else:\n",
    "    Nccl = n*2 - 1 #кол-во циклов обхода\n",
    "    m = [[0 for j in range(n)] for i in range(n)]\n",
    "    number = 0      #знач-е числа по спирали\n",
    "    for step in range(1, Nccl + 1):\n",
    "        #print(' ')\n",
    "        #Вычислим кол-во элементов в строке/столбце для заполнения\n",
    "        #step: 1 2 3 4 5 6 7 8 9  №шага обхода, начиная с 1\n",
    "        #qnt : 5 4 4 3 3 2 2 1 1\n",
    "        if step == 1:\n",
    "            qnt = n\n",
    "            incr = 0\n",
    "            decr = n - 1\n",
    "            nOfRowCol = 0\n",
    "            RowColShift = 0 #сдвиг по строке/колонке\n",
    "        else:\n",
    "            if step%2 == 0:\n",
    "                qnt -= 1\n",
    "                #RowColShift += 1 #сдвиг по строке/колонке\n",
    "            \n",
    "            #необходимо ин-/декремент-ть только 1 раз, если (step%2==0 or step%3==0)\n",
    "            if step%2 == 0 and step%4 != 0:\n",
    "                nOfRowCol = decr\n",
    "                #print('  nOfRowCol:', nOfRowCol, ', decr:', decr)\n",
    "                decr -= 1\n",
    "            #необходимо ин-/декремент-ть только 1 раз, если (step%1==0 or step%4==0)\n",
    "            elif step%4 == 0:\n",
    "                nOfRowCol = incr\n",
    "                #print('  nOfRowCol:', nOfRowCol, ', incr:', incr)\n",
    "                incr += 1\n",
    "            elif (step-1)%4 == 0:\n",
    "                nOfRowCol = incr\n",
    "                #print('  nOfRowCol:', nOfRowCol, ', incr:', incr)\n",
    "        #print('step:', step, ', number:', number, ', qnt:', qnt, ', nOfRowCol:', nOfRowCol)\n",
    "\n",
    "        #Полный цикл = 4 шага\n",
    "        # (пример n == 5)    step: 1 2  3  4 5 6  7  8 9\n",
    "        #кол-во эл-ов в стр./кол.: 5 4  4  3 3 2  2  1 1\n",
    "        # смещение по строке/кол.: 0 1 -1 -1 1 2 -2 -2 2\n",
    "        #####\n",
    "        # (пример n == 8)    step: 1 2  3  4 5 6  7  8 9 10 11 12 13 14 15\n",
    "        #кол-во эл-ов в стр./кол.: 8 7  7  6 6 5  5  4 4  3  3  2  2  1  1\n",
    "        # смещение по строке/кол.: 0 1 -1 -1 1 2 -2 -2 2  3 -3 -3  3  4 -4\n",
    "        if step == 2 or ((step-2) != 0 and (step-2)%4 == 0):\n",
    "            #Начало нового полного цикла - делаем сдвиг по строке/колонке\n",
    "            RowColShift +=1\n",
    "        #print('RowColShift:', RowColShift)\n",
    "            \n",
    "        if step == 1 or (step-1)%4 == 0:\n",
    "            #НЕчетный шаг: заполнение по столбцам (1,5,9...)\n",
    "            #print('-->')\n",
    "            sign = 1        #полож-е увелич-е индекса\n",
    "            for j in range(RowColShift, RowColShift+qnt, sign):\n",
    "                number += 1\n",
    "                m[nOfRowCol][j] = number\n",
    "        elif step%2 == 0 and step%4 != 0:\n",
    "            #четный шаг: заполнение по строкам (2,6,10...)\n",
    "            #print('|')\n",
    "            #print('V')\n",
    "            for i in range(RowColShift, RowColShift+qnt, 1):\n",
    "                number += 1\n",
    "                m[i][nOfRowCol] = number\n",
    "        elif (step-1)%2 == 0 and (step-1)%4 != 0:\n",
    "            #НЕчетный шаг: заполнение по столбцам (3,7,11...)\n",
    "            #print('<--')\n",
    "            for j in range(RowColShift, RowColShift+qnt, 1):\n",
    "                number += 1\n",
    "                m[nOfRowCol][-j-1] = number\n",
    "        elif step%4 == 0:\n",
    "            #четный шаг: заполнение по строкам (4,8,12...)\n",
    "            #print('^')\n",
    "            #print('|')\n",
    "            for i in range(RowColShift, RowColShift+qnt, 1):\n",
    "                number += 1\n",
    "                m[-i-1][nOfRowCol] = number\n",
    "        #print('m:', m)\n",
    "\n",
    "    #print('---------- вывод итоговой матрицы')\n",
    "    for row in m:\n",
    "        for val in row:\n",
    "            print(val, end = ' ')\n",
    "        print()\n"
   ]
  },
  {
   "cell_type": "markdown",
   "metadata": {},
   "source": [
    "0%4\n",
    "\n"
   ]
  },
  {
   "cell_type": "code",
   "execution_count": 1,
   "metadata": {},
   "outputs": [
    {
     "data": {
      "text/plain": [
       "10555"
      ]
     },
     "execution_count": 1,
     "metadata": {},
     "output_type": "execute_result"
    }
   ],
   "source": [
    "def f(n):\n",
    "    return n * 10 + 5\n",
    "f(f(f(10)))"
   ]
  },
  {
   "cell_type": "code",
   "execution_count": 34,
   "metadata": {},
   "outputs": [],
   "source": [
    "def f(x):\n",
    "    if -2 < x <= 2:\n",
    "        return (-x / 2)\n",
    "    elif x <= 2:\n",
    "        return (1 - (x+2)*(x+2))\n",
    "    elif 2 < x:\n",
    "        return ((x-2)*(x-2) + 1)"
   ]
  },
  {
   "cell_type": "code",
   "execution_count": 120,
   "metadata": {},
   "outputs": [],
   "source": [
    "def modify_list(l):\n",
    "    was_del = True\n",
    "    while was_del:\n",
    "        was_del = False\n",
    "        for i in l:\n",
    "            if i%2 == 1:\n",
    "                #print('  remove:', i)\n",
    "                l.remove(i)\n",
    "                #del l[l.index(i)]\n",
    "                was_del = True\n",
    "    for i in l:\n",
    "        if i%2 == 0:\n",
    "            ind = l.index(i)\n",
    "            l[ind] = (i//2)\n",
    "            #print('  l[ind]:', l[ind])\n"
   ]
  },
  {
   "cell_type": "code",
   "execution_count": 177,
   "metadata": {},
   "outputs": [],
   "source": [
    "#Напишите функцию update_dictionary(d, key, value), которая принимает \n",
    "#на вход словарь d и два числа: key и value.\n",
    "def update_dictionary(d, key, value):\n",
    "    if key in d.keys():\n",
    "        d[key] += [value]\n",
    "        #print('key in d.keys:',d[key])\n",
    "    else:\n",
    "        if 2*key in d.keys():\n",
    "            d[2*key] += [value]\n",
    "            #print('2*key in d.keys:',d)\n",
    "        else:\n",
    "            d[2*key] = [value]\n",
    "            #print('else:',d)\n"
   ]
  },
  {
   "cell_type": "code",
   "execution_count": 178,
   "metadata": {},
   "outputs": [
    {
     "name": "stdout",
     "output_type": "stream",
     "text": [
      "None\n",
      "{2: [-1]}\n",
      "{2: [-1, -2]}\n",
      "{2: [-1, -2, -3]}\n"
     ]
    }
   ],
   "source": [
    "d = {}\n",
    "print(update_dictionary(d, 1, -1))  # None\n",
    "print(d)                            # {2: [-1]}\n",
    "update_dictionary(d, 2, -2)\n",
    "print(d)                            # {2: [-1, -2]}\n",
    "update_dictionary(d, 1, -3)\n",
    "print(d)                            # {2: [-1, -2, -3]}"
   ]
  },
  {
   "cell_type": "code",
   "execution_count": 186,
   "metadata": {},
   "outputs": [
    {
     "name": "stdout",
     "output_type": "stream",
     "text": [
      "a aa abC aa ac abc bcd a\n",
      "a 2\n",
      "aa 2\n",
      "abc 2\n",
      "ac 1\n",
      "bcd 1\n"
     ]
    }
   ],
   "source": [
    "#Когда Антон прочитал «Войну и мир», ему стало интересно, сколько слов и в \n",
    "#каком количестве используется в этой книге\n",
    "d = {}\n",
    "for s in input().split():\n",
    "    #print(s)\n",
    "    s = s.lower()\n",
    "    if s in d.keys():\n",
    "        d[s] += 1\n",
    "    else:\n",
    "        d[s] = 1\n",
    "\n",
    "for key in d.keys():\n",
    "    print(key, d.get(key))"
   ]
  },
  {
   "cell_type": "code",
   "execution_count": 1,
   "metadata": {},
   "outputs": [
    {
     "name": "stdout",
     "output_type": "stream",
     "text": [
      "5\n",
      "5\n"
     ]
    },
    {
     "ename": "NameError",
     "evalue": "name 'f' is not defined",
     "output_type": "error",
     "traceback": [
      "\u001b[1;31m---------------------------------------------------------------------------\u001b[0m",
      "\u001b[1;31mNameError\u001b[0m                                 Traceback (most recent call last)",
      "\u001b[1;32m<ipython-input-1-a4234e7f36bd>\u001b[0m in \u001b[0;36m<module>\u001b[1;34m\u001b[0m\n\u001b[0;32m      9\u001b[0m         \u001b[0my\u001b[0m \u001b[1;33m=\u001b[0m \u001b[0md\u001b[0m\u001b[1;33m.\u001b[0m\u001b[0mget\u001b[0m\u001b[1;33m(\u001b[0m\u001b[0mx\u001b[0m\u001b[1;33m)\u001b[0m\u001b[1;33m\u001b[0m\u001b[1;33m\u001b[0m\u001b[0m\n\u001b[0;32m     10\u001b[0m     \u001b[1;32melse\u001b[0m\u001b[1;33m:\u001b[0m\u001b[1;33m\u001b[0m\u001b[1;33m\u001b[0m\u001b[0m\n\u001b[1;32m---> 11\u001b[1;33m         \u001b[0my\u001b[0m \u001b[1;33m=\u001b[0m \u001b[0mf\u001b[0m\u001b[1;33m(\u001b[0m\u001b[0mx\u001b[0m\u001b[1;33m)\u001b[0m\u001b[1;33m\u001b[0m\u001b[1;33m\u001b[0m\u001b[0m\n\u001b[0m\u001b[0;32m     12\u001b[0m         \u001b[0md\u001b[0m\u001b[1;33m[\u001b[0m\u001b[0mx\u001b[0m\u001b[1;33m]\u001b[0m \u001b[1;33m=\u001b[0m \u001b[0my\u001b[0m\u001b[1;33m\u001b[0m\u001b[1;33m\u001b[0m\u001b[0m\n\u001b[0;32m     13\u001b[0m     \u001b[0mprint\u001b[0m\u001b[1;33m(\u001b[0m\u001b[1;34m'x:'\u001b[0m\u001b[1;33m,\u001b[0m\u001b[0mx\u001b[0m\u001b[1;33m,\u001b[0m\u001b[1;34m', y:'\u001b[0m\u001b[1;33m,\u001b[0m\u001b[0my\u001b[0m\u001b[1;33m,\u001b[0m\u001b[1;34m', d:'\u001b[0m\u001b[1;33m,\u001b[0m\u001b[0md\u001b[0m\u001b[1;33m)\u001b[0m\u001b[1;33m\u001b[0m\u001b[1;33m\u001b[0m\u001b[0m\n",
      "\u001b[1;31mNameError\u001b[0m: name 'f' is not defined"
     ]
    }
   ],
   "source": [
    "#на вход в первой строке подаётся число n — количество значений x, для которых \n",
    "#требуется узнать значение функции f(x), после чего сами эти n значений, \n",
    "#каждое на отдельной строке\n",
    "n = int(input())\n",
    "d = {}\n",
    "for i in range(n):\n",
    "    x = int(input())\n",
    "    if x in d.keys():\n",
    "        y = d.get(x)\n",
    "    else:\n",
    "        y = f(x)\n",
    "        d[x] = y\n",
    "    #print('x:',x,', y:',y,', d:',d)\n",
    "    print(y)\n"
   ]
  },
  {
   "cell_type": "code",
   "execution_count": 44,
   "metadata": {},
   "outputs": [
    {
     "name": "stdout",
     "output_type": "stream",
     "text": [
      "AAAAAAAAAAAwwwwwwwwwwwwwwwwwwweeeeeeeeeebbbbbbbbbbbbbbCCCCCyyyyyyyyyyyyyyyyyyyjjjjjjjjjjjjjjjjjmmmmmWQQQQQQQQQQQQQQQQQQQiiiiiiiiiiiiiFFFFFFFFffffffCCCGGGGGGGGGGGGGGxxxxxVVBBddddddddllllllllllllllllllXXXXXXXXXxxxxxxxOOOOOOOOOOOOOOOOOOyyyyyyyyyyyyyXXXmmmmmmmmmmmmmmgggggggggggggggbbbbbbbbbbbbbbbbbbbbEEGGGGGKKKKKKDDDDDDDDDDDaaaaaaaGGGGGGGDDDDDDDDDkkkkkkkkkkkkkkkkkkkkBBBBBBBBjjjjjjjjjjjeeeeeeeeeeeeeeeeeeeeJJtttttttttttttttdddmmpppppppppppxxxxxxxxwwwwwwwwwwwwwwwwwwggggggggggggggg\n"
     ]
    }
   ],
   "source": [
    "#программу, которая считывает из файла строку, соответствующую тексту, \n",
    "#сжатому с помощью кодирования повторов, и производит обратную операцию, \n",
    "#получая исходный текст (a3b4c2e10b1)\n",
    "with open('file_in_out/dataset_3363_2.txt', 'r') as inf:\n",
    "    sD = '0123456789'\n",
    "    for line in inf:\n",
    "        line = line.strip()\n",
    "        sOut = ''\n",
    "        ch = line[0]\n",
    "        #print('ch:',ch)\n",
    "        dRepeat = ''\n",
    "        for s in line[1:]:\n",
    "            if s not in sD:\n",
    "                if n > 0:\n",
    "                    sOut += ch*n\n",
    "                    #print('  sOut:',sOut)\n",
    "                    dRepeat = ''\n",
    "                    n = 0\n",
    "                ch = s #нашли символ для вывода\n",
    "                #print('ch:',ch)\n",
    "            else:\n",
    "                #кол-во повторов символа\n",
    "                dRepeat += str(s)\n",
    "                n = int(dRepeat)\n",
    "                #print('  dRepeat:',dRepeat,', n:',n)\n",
    "        sOut += ch*n\n",
    "print(sOut)\n",
    "ouf = open('file_in_out/dataset_3363_2_out.txt', 'w')\n",
    "ouf.write(sOut+'\\n')\n",
    "ouf.close()"
   ]
  },
  {
   "cell_type": "code",
   "execution_count": 12,
   "metadata": {},
   "outputs": [
    {
     "name": "stdout",
     "output_type": "stream",
     "text": [
      "cptacaycy 11\n"
     ]
    }
   ],
   "source": [
    "#Напишите программу, которая считывает текст из файла и выводит самое частое \n",
    "#слово в этом тексте и через пробел то, сколько раз оно встретилось\n",
    "d = {}\n",
    "with open('file_in_out/dataset_3363_3.txt', 'r') as inf:\n",
    "    for line in inf:\n",
    "        line = line.lower().strip()\n",
    "        for s in line.split(' '):\n",
    "            #print(s)\n",
    "            if s in d.keys():\n",
    "                d[s] += 1\n",
    "            else:\n",
    "                d[s] = 1\n",
    "#print(d)\n",
    "#print(' ')\n",
    "key_old = ''\n",
    "qnt = 0\n",
    "for key in d.keys():\n",
    "    #print(key, d[key], key_old, qnt)\n",
    "    if qnt < d[key]:\n",
    "        key_old = key\n",
    "        qnt = d[key]\n",
    "        #print('  изменили всё: key_old:',key_old,', qnt =',qnt)\n",
    "    elif qnt == d[key]:\n",
    "        if key < key_old or key_old == '':\n",
    "            key_old = key\n",
    "            #print('  изменили key_old:',key_old)\n",
    "\n",
    "print(key_old, qnt)\n",
    "\n",
    "#ouf = open('file_in_out/dataset_3363_3_out.txt', 'w')\n",
    "#ouf.write(key_old+' '+str(qnt)+'\\n')\n",
    "#ouf.close()"
   ]
  },
  {
   "cell_type": "code",
   "execution_count": 60,
   "metadata": {},
   "outputs": [
    {
     "name": "stdout",
     "output_type": "stream",
     "text": [
      "85.33333333333333\n",
      "43.0\n",
      "66.0\n",
      "74.66666666666667\n",
      "59.0\n",
      "58.666666666666664\n",
      "61.666666666666664\n",
      "64.33333333333333\n",
      "61.333333333333336\n",
      "68.66666666666667\n",
      "36.666666666666664\n",
      "77.0\n",
      "59.666666666666664\n",
      "55.666666666666664\n",
      "63.666666666666664\n",
      "38.666666666666664\n",
      "57.333333333333336\n",
      "67.0\n",
      "39.666666666666664\n",
      "58.666666666666664\n",
      "55.333333333333336\n",
      "60.333333333333336\n",
      "46.333333333333336\n",
      "52.0\n",
      "64.66666666666667\n",
      "72.0\n",
      "41.666666666666664\n",
      "50.0\n",
      "57.333333333333336\n",
      "64.0\n",
      "71.66666666666667\n",
      "46.333333333333336\n",
      "51.0\n",
      "39.333333333333336\n",
      "62.0\n",
      "56.666666666666664\n",
      "46.666666666666664\n",
      "76.33333333333333\n",
      "87.66666666666667\n",
      "77.66666666666667\n",
      "60.0\n",
      "61.666666666666664\n",
      "59.333333333333336\n",
      "76.0\n",
      "65.66666666666667\n",
      "57.333333333333336\n",
      "64.66666666666667\n",
      "77.33333333333333\n",
      "48.666666666666664\n",
      "51.666666666666664\n",
      "79.0\n",
      "62.0\n",
      "62.0\n",
      "73.66666666666667\n",
      "48.666666666666664\n",
      "80.0\n",
      "32.666666666666664\n",
      "48.666666666666664\n",
      "57.666666666666664\n",
      "68.66666666666667\n",
      "77.0\n",
      "39.666666666666664\n",
      "56.666666666666664\n",
      "57.0\n",
      "67.0\n",
      "81.33333333333333\n",
      "42.333333333333336\n",
      "71.66666666666667\n",
      "54.0\n",
      "49.666666666666664\n",
      "64.0\n",
      "53.0\n",
      "40.666666666666664\n",
      "52.0\n",
      "58.0\n",
      "36.666666666666664\n",
      "58.0\n",
      "51.333333333333336\n",
      "41.0\n",
      "52.666666666666664\n",
      "56.333333333333336\n",
      "57.666666666666664\n",
      "62.0\n",
      "52.666666666666664\n",
      "69.0\n",
      "80.0\n",
      "55.666666666666664\n",
      "46.333333333333336\n",
      "61.333333333333336\n",
      "53.0\n",
      "63.0\n",
      "62.666666666666664\n",
      "50.666666666666664\n",
      "54.666666666666664\n",
      "67.33333333333333\n",
      "71.0\n",
      "65.0\n",
      "68.0\n",
      "60.0\n",
      "62.333333333333336\n",
      "47.666666666666664\n",
      "69.33333333333333\n",
      "58.666666666666664\n",
      "55.666666666666664\n",
      "67.33333333333333\n",
      "56.666666666666664\n",
      "57.333333333333336\n",
      "56.666666666666664\n",
      "55.0\n",
      "74.0\n",
      "42.666666666666664\n",
      "62.0\n",
      "61.333333333333336\n",
      "63.333333333333336\n",
      "84.66666666666667\n",
      "80.33333333333333\n",
      "51.333333333333336\n",
      "80.33333333333333\n",
      "55.666666666666664\n",
      "39.666666666666664\n",
      "45.333333333333336\n",
      "78.0\n",
      "79.0\n",
      "78.33333333333333\n",
      "64.0\n",
      "70.0\n",
      "82.0\n",
      "77.66666666666667\n",
      "66.33333333333333\n",
      "69.33333333333333\n",
      "82.0\n",
      "39.333333333333336\n",
      "67.0\n",
      "66.66666666666667\n",
      "71.66666666666667\n",
      "61.333333333333336\n",
      "70.0\n",
      "51.666666666666664\n",
      "61.0\n",
      "55.333333333333336\n",
      "62.333333333333336\n",
      "55.333333333333336\n",
      "70.66666666666667\n",
      "42.0\n",
      "73.33333333333333\n",
      "79.33333333333333\n",
      "61.17123287671233 59.88356164383562 61.24657534246575 \n"
     ]
    }
   ],
   "source": [
    "#Имеется файл с данными по успеваемости абитуриентов\n",
    "d = {}\n",
    "sD = '0123456789'\n",
    "with open('file_in_out/dataset_3363_4.txt', 'r', encoding='utf-8') as inf:\n",
    "    key = ''\n",
    "    for line in inf:\n",
    "        line = line.strip()\n",
    "        #print(line)\n",
    "        for s in line.split(';'):\n",
    "            #print(s)\n",
    "            if s[0] not in sD:\n",
    "                key = s\n",
    "                #print('  key:',key)\n",
    "            else:\n",
    "                if key in d.keys():\n",
    "                    d[key] += [s]\n",
    "                else:\n",
    "                    d[key] = [s]\n",
    "#print(d)\n",
    "\n",
    "ouf = open('file_in_out/dataset_3363_4_out.txt', 'w')\n",
    "cnt_v = 0\n",
    "avg_v = []\n",
    "for key in d.keys():\n",
    "    cnt_h = 0\n",
    "    avg_h = 0\n",
    "    for n in d[key]:\n",
    "        cnt_h += 1\n",
    "        avg_h += int(n) #среднее по строке\n",
    "        #print(cnt_h-1,n)\n",
    "        if cnt_v == 0:\n",
    "            avg_v.append(int(n))\n",
    "        else:\n",
    "            avg_v[cnt_h-1] = int(avg_v[cnt_h-1]) + int(n)\n",
    "    cnt_v += 1 #кол-во элем-ов в столбце\n",
    "\n",
    "    print(avg_h/cnt_h)    # 1. среднее по строке\n",
    "    ouf.write(str(avg_h/cnt_h) + '\\n')\n",
    "\n",
    "sOut = ''\n",
    "for val in avg_v:\n",
    "    sOut += str(val/cnt_v) + ' '\n",
    "print(sOut) # 2. среднее по столбцу\n",
    "ouf.write(sOut+'\\n')\n",
    "ouf.close()"
   ]
  },
  {
   "cell_type": "code",
   "execution_count": 64,
   "metadata": {},
   "outputs": [
    {
     "name": "stdout",
     "output_type": "stream",
     "text": [
      "10\n",
      "62.83185307179586\n"
     ]
    }
   ],
   "source": [
    "'''Напишите программу, которая подключает модуль math и, используя \n",
    "значение числа π из этого модуля, находит для переданного ей на \n",
    "стандартный ввод радиуса круга периметр этого круга и выводит его на \n",
    "стандартный вывод'''\n",
    "import math\n",
    "r = float(input())\n",
    "print(2*math.pi*r)"
   ]
  },
  {
   "cell_type": "code",
   "execution_count": 68,
   "metadata": {},
   "outputs": [
    {
     "name": "stdout",
     "output_type": "stream",
     "text": [
      "-f C:\\Users\\OKiselev\\AppData\\Roaming\\jupyter\\runtime\\kernel-48301c2a-d98c-46da-aab2-e64989cd30d6.json "
     ]
    }
   ],
   "source": [
    "'''Напишите программу, которая запускается из консоли и печатает значения всех \n",
    "переданных аргументов на экран (имя скрипта выводить не нужно). Не изменяйте \n",
    "порядок аргументов при выводе.'''\n",
    "import sys\n",
    "for a in sys.argv[1:]:\n",
    "    print(a, end=' ')"
   ]
  },
  {
   "cell_type": "code",
   "execution_count": null,
   "metadata": {},
   "outputs": [],
   "source": []
  },
  {
   "cell_type": "code",
   "execution_count": null,
   "metadata": {},
   "outputs": [],
   "source": []
  }
 ],
 "metadata": {
  "kernelspec": {
   "display_name": "Python 3",
   "language": "python",
   "name": "python3"
  },
  "language_info": {
   "codemirror_mode": {
    "name": "ipython",
    "version": 3
   },
   "file_extension": ".py",
   "mimetype": "text/x-python",
   "name": "python",
   "nbconvert_exporter": "python",
   "pygments_lexer": "ipython3",
   "version": "3.7.4"
  }
 },
 "nbformat": 4,
 "nbformat_minor": 2
}
