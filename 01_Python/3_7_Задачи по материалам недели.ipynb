{
 "cells": [
  {
   "cell_type": "code",
   "execution_count": 25,
   "metadata": {},
   "outputs": [
    {
     "name": "stdout",
     "output_type": "stream",
     "text": [
      "3\n",
      "Зенит;3;Спартак;1\n",
      "Спартак;1;ЦСКА;1\n",
      "ЦСКА;0;Зенит;2\n",
      "Зенит:2 2 0 0 6\n",
      "Спартак:2 0 1 1 1\n",
      "ЦСКА:2 0 1 1 1\n"
     ]
    }
   ],
   "source": [
    "'''Напишите программу, которая принимает на стандартный вход список игр \n",
    "футбольных команд с результатом матча и выводит на стандартный вывод сводную \n",
    "таблицу результатов всех матчей'''\n",
    "n = int(input())\n",
    "d = {}\n",
    "sD = '0123456789'\n",
    "\n",
    "for i in range(n):\n",
    "    lst = []\n",
    "    for s in input().split(';'):\n",
    "        lst.append(s) #заполнили список с информацией по конкретной игре\n",
    "        if s[0] not in sD:\n",
    "            if s not in d.keys():\n",
    "                #инициализация\n",
    "                d[s] = [0,0,0,0,0]\n",
    "    #print(lst)\n",
    "    #print(d)\n",
    "\n",
    "    d[lst[0]][0] += 1 #Всего_игр\n",
    "    d[lst[2]][0] += 1 #Всего_игр\n",
    "\n",
    "    if lst[1] > lst[3]: #0 - win, 2 - loss\n",
    "        d[lst[0]][1] += 1 #Побед\n",
    "        d[lst[0]][4] += 3 #Всего_очков\n",
    "        #\n",
    "        d[lst[2]][3] += 1 #Поражений\n",
    "    elif lst[1] < lst[3]: #2 - win, 0 - loss\n",
    "        d[lst[2]][1] += 1 #Побед\n",
    "        d[lst[2]][4] += 3 #Всего_очков\n",
    "        #\n",
    "        d[lst[0]][3] += 1 #Поражений\n",
    "    else:\n",
    "        d[lst[0]][2] += 1 #Ничьих\n",
    "        d[lst[0]][4] += 1 #Всего_очков\n",
    "        #\n",
    "        d[lst[2]][2] += 1 #Ничьих\n",
    "        d[lst[2]][4] += 1 #Всего_очков\n",
    "\n",
    "for key in d.keys():\n",
    "    msg1 = key+':'\n",
    "    msg2 = ''\n",
    "    for s in d[key]:\n",
    "        msg2 += ' '+str(s)\n",
    "    print(msg1+msg2.strip())\n"
   ]
  },
  {
   "cell_type": "markdown",
   "metadata": {},
   "source": [
    "''''"
   ]
  },
  {
   "cell_type": "code",
   "execution_count": 37,
   "metadata": {},
   "outputs": [
    {
     "name": "stdout",
     "output_type": "stream",
     "text": [
      "dcba\n",
      "badc\n",
      "dcba\n",
      "badc\n",
      "badc\n",
      "dcba"
     ]
    }
   ],
   "source": [
    "'''В какой-то момент в Институте биоинформатики биологи перестали понимать, \n",
    "что говорят информатики: они говорили каким-то странным набором звуков'''\n",
    "alphb = input()\n",
    "syfer = input()\n",
    "str_2syfer = input()\n",
    "str_fromsf = input()\n",
    "d_2syfer = {}\n",
    "d_fromsf = {}\n",
    "\n",
    "pos = -1\n",
    "for s in alphb:\n",
    "    pos += 1\n",
    "    d_2syfer[s] = syfer[pos:pos+1]\n",
    "#print(d_2syfer)\n",
    "\n",
    "pos = -1\n",
    "for s in syfer:\n",
    "    pos += 1\n",
    "    d_fromsf[s] = alphb[pos:pos+1]\n",
    "#print(d_fromsf)\n",
    "\n",
    "for s in str_2syfer:\n",
    "    print(d_2syfer.get(s), end='')\n",
    "print()\n",
    "for s in str_fromsf:\n",
    "    print(d_fromsf.get(s), end='')\n",
    "    "
   ]
  },
  {
   "cell_type": "code",
   "execution_count": 1,
   "metadata": {},
   "outputs": [
    {
     "name": "stdout",
     "output_type": "stream",
     "text": [
      "3\n",
      "a\n",
      "bb\n",
      "cCc\n",
      "{'a': 1, 'bb': 1, 'ccc': 1}\n",
      "2\n",
      "a bb aab aba ccc\n",
      "c bb aaa\n",
      "aab\n",
      "aba\n",
      "c\n",
      "aaa\n"
     ]
    }
   ],
   "source": [
    "#Простейшая система проверки орфографии\n",
    "d = int(input()) # количество d записей в списке известных слов\n",
    "dct = {}\n",
    "for i in range(d):\n",
    "    w = input()\n",
    "    dct[w.lower()] = 1\n",
    "# print(dct)\n",
    "\n",
    "l = int(input()) # количество l строк текста\n",
    "txt = {}\n",
    "cnt = -1\n",
    "proc_word = {}\n",
    "for i in range(l):\n",
    "    for s in input().split(' '):\n",
    "        word = s.lower()\n",
    "        if word not in dct.keys():\n",
    "            txt[word] = 1\n",
    "\n",
    "for key in txt.keys():\n",
    "    print(key)"
   ]
  },
  {
   "cell_type": "code",
   "execution_count": 15,
   "metadata": {},
   "outputs": [
    {
     "name": "stdout",
     "output_type": "stream",
     "text": [
      "1\n",
      "запад 20\n",
      "-20 0\n"
     ]
    }
   ],
   "source": [
    "#Группа биологов в институте биоинформатики завела себе черепашку\n",
    "n = int(input())\n",
    "d = {}\n",
    "for i in range(n):\n",
    "    cnt = 0\n",
    "    for s in input().split(' '):\n",
    "        if cnt == 0:\n",
    "            direction = s.lower()\n",
    "            coef = 1\n",
    "            if direction == 'юг' or direction == 'запад':\n",
    "                coef = -1\n",
    "            \n",
    "            if direction == 'юг' or direction == 'север':\n",
    "                direction = 'N'\n",
    "            elif direction == 'запад' or direction == 'восток':\n",
    "                direction = 'E'\n",
    "        else:\n",
    "            if direction not in d.keys():\n",
    "                d[direction] = coef*int(s)\n",
    "            else:\n",
    "                d[direction] = d[direction] + coef*int(s)\n",
    "        cnt += 1\n",
    "if 'E' in d.keys():\n",
    "    c1 = d['E']\n",
    "else:\n",
    "    c1 = 0\n",
    "if 'N' in d.keys():\n",
    "    c2 = d['N']\n",
    "else:\n",
    "    c2 = 0\n",
    "#  print(d)\n",
    "print(c1, c2)\n"
   ]
  },
  {
   "cell_type": "code",
   "execution_count": 29,
   "metadata": {},
   "outputs": [
    {
     "name": "stdout",
     "output_type": "stream",
     "text": [
      "1 125.45454545454545\n",
      "2 130.28571428571428\n",
      "3 136.2\n",
      "4 139.27272727272728\n",
      "5 146.375\n",
      "6 155.6315789473684\n",
      "7 159.88888888888889\n",
      "8 165.75\n",
      "9 169.76923076923077\n",
      "10 171.4\n",
      "11 175.07692307692307\n"
     ]
    }
   ],
   "source": [
    "'''Дан файл с таблицей в формате TSV с информацией о росте школьников разных \n",
    "классов'''\n",
    "d = {}\n",
    "sD = '0123456789'\n",
    "for i in range(1,12):\n",
    "    d[i] = '-'\n",
    "#  print(d)\n",
    "\n",
    "with open('file_in_out/dataset_3380_5.txt', 'r', encoding='utf-8') as inf:\n",
    "    key = ''\n",
    "    for line in inf:\n",
    "        line = line.strip()\n",
    "        #print(line)\n",
    "        cnt = 0\n",
    "        for s in line.split('\\t'):\n",
    "            #print(s)\n",
    "            if cnt == 0:   #  номер класса\n",
    "                key = int(s)\n",
    "                #print('  key:',key)\n",
    "            elif cnt == 2: #  рост\n",
    "                if d[key][0] == '-':\n",
    "                    d[key] = [s]\n",
    "                else:\n",
    "                    d[key] += [s]\n",
    "            cnt += 1\n",
    "for key in d.keys():\n",
    "    if d[key][0] == '-':\n",
    "        print(key, d[key][0])\n",
    "    else:\n",
    "        avg = 0\n",
    "        for h in d[key]:\n",
    "            avg += float(h)\n",
    "        #  print('cls:',key,', sum(h):',avg,', qnt:',len(d[key]),', avg:',avg / len(d[key]))\n",
    "        avg = avg / len(d[key])\n",
    "        print(key, avg)"
   ]
  },
  {
   "cell_type": "code",
   "execution_count": null,
   "metadata": {},
   "outputs": [],
   "source": []
  }
 ],
 "metadata": {
  "kernelspec": {
   "display_name": "Python 3",
   "language": "python",
   "name": "python3"
  },
  "language_info": {
   "codemirror_mode": {
    "name": "ipython",
    "version": 3
   },
   "file_extension": ".py",
   "mimetype": "text/x-python",
   "name": "python",
   "nbconvert_exporter": "python",
   "pygments_lexer": "ipython3",
   "version": "3.7.4"
  }
 },
 "nbformat": 4,
 "nbformat_minor": 2
}
